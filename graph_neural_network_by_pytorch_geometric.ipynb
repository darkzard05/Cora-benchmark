{
  "cells": [
    {
      "cell_type": "markdown",
      "metadata": {
        "id": "view-in-github",
        "colab_type": "text"
      },
      "source": [
        "<a href=\"https://colab.research.google.com/github/darkzard05/graph_neural_network/blob/main/graph_neural_network_by_pytorch_geometric.ipynb\" target=\"_parent\"><img src=\"https://colab.research.google.com/assets/colab-badge.svg\" alt=\"Open In Colab\"/></a>"
      ]
    },
    {
      "cell_type": "code",
      "execution_count": 1,
      "metadata": {
        "colab": {
          "base_uri": "https://localhost:8080/"
        },
        "id": "8U_rypC--3Mc",
        "outputId": "3ad43671-c74d-4c65-9297-75b5f8f7e11d"
      },
      "outputs": [
        {
          "output_type": "stream",
          "name": "stdout",
          "text": [
            "Requirement already satisfied: torch in /usr/local/lib/python3.7/dist-packages (1.10.0+cu111)\n",
            "Requirement already satisfied: typing-extensions in /usr/local/lib/python3.7/dist-packages (from torch) (3.10.0.2)\n",
            "Looking in links: https://data.pyg.org/whl/torch-1.10.0+cu111.html\n",
            "Requirement already satisfied: torch-scatter in /usr/local/lib/python3.7/dist-packages (2.0.9)\n",
            "Looking in links: https://data.pyg.org/whl/torch-1.10.0+cu111.html\n",
            "Requirement already satisfied: torch-sparse in /usr/local/lib/python3.7/dist-packages (0.6.13)\n",
            "Requirement already satisfied: scipy in /usr/local/lib/python3.7/dist-packages (from torch-sparse) (1.4.1)\n",
            "Requirement already satisfied: numpy>=1.13.3 in /usr/local/lib/python3.7/dist-packages (from scipy->torch-sparse) (1.21.5)\n",
            "Looking in links: https://data.pyg.org/whl/torch-1.10.0+cu111.html\n",
            "Requirement already satisfied: torch-spline-conv in /usr/local/lib/python3.7/dist-packages (1.2.1)\n",
            "Requirement already satisfied: torch_geometric in /usr/local/lib/python3.7/dist-packages (2.0.4)\n",
            "Requirement already satisfied: pyparsing in /usr/local/lib/python3.7/dist-packages (from torch_geometric) (3.0.7)\n",
            "Requirement already satisfied: scipy in /usr/local/lib/python3.7/dist-packages (from torch_geometric) (1.4.1)\n",
            "Requirement already satisfied: scikit-learn in /usr/local/lib/python3.7/dist-packages (from torch_geometric) (1.0.2)\n",
            "Requirement already satisfied: tqdm in /usr/local/lib/python3.7/dist-packages (from torch_geometric) (4.63.0)\n",
            "Requirement already satisfied: numpy in /usr/local/lib/python3.7/dist-packages (from torch_geometric) (1.21.5)\n",
            "Requirement already satisfied: requests in /usr/local/lib/python3.7/dist-packages (from torch_geometric) (2.23.0)\n",
            "Requirement already satisfied: jinja2 in /usr/local/lib/python3.7/dist-packages (from torch_geometric) (2.11.3)\n",
            "Requirement already satisfied: pandas in /usr/local/lib/python3.7/dist-packages (from torch_geometric) (1.3.5)\n",
            "Requirement already satisfied: MarkupSafe>=0.23 in /usr/local/lib/python3.7/dist-packages (from jinja2->torch_geometric) (2.0.1)\n",
            "Requirement already satisfied: python-dateutil>=2.7.3 in /usr/local/lib/python3.7/dist-packages (from pandas->torch_geometric) (2.8.2)\n",
            "Requirement already satisfied: pytz>=2017.3 in /usr/local/lib/python3.7/dist-packages (from pandas->torch_geometric) (2018.9)\n",
            "Requirement already satisfied: six>=1.5 in /usr/local/lib/python3.7/dist-packages (from python-dateutil>=2.7.3->pandas->torch_geometric) (1.15.0)\n",
            "Requirement already satisfied: certifi>=2017.4.17 in /usr/local/lib/python3.7/dist-packages (from requests->torch_geometric) (2021.10.8)\n",
            "Requirement already satisfied: urllib3!=1.25.0,!=1.25.1,<1.26,>=1.21.1 in /usr/local/lib/python3.7/dist-packages (from requests->torch_geometric) (1.24.3)\n",
            "Requirement already satisfied: chardet<4,>=3.0.2 in /usr/local/lib/python3.7/dist-packages (from requests->torch_geometric) (3.0.4)\n",
            "Requirement already satisfied: idna<3,>=2.5 in /usr/local/lib/python3.7/dist-packages (from requests->torch_geometric) (2.10)\n",
            "Requirement already satisfied: joblib>=0.11 in /usr/local/lib/python3.7/dist-packages (from scikit-learn->torch_geometric) (1.1.0)\n",
            "Requirement already satisfied: threadpoolctl>=2.0.0 in /usr/local/lib/python3.7/dist-packages (from scikit-learn->torch_geometric) (3.1.0)\n"
          ]
        }
      ],
      "source": [
        "!pip install torch\n",
        "!pip install torch-scatter -f https://data.pyg.org/whl/torch-1.10.0+cu111.html\n",
        "!pip install torch-sparse -f https://data.pyg.org/whl/torch-1.10.0+cu111.html\n",
        "!pip install torch-spline-conv -f https://data.pyg.org/whl/torch-1.10.0+cu111.html\n",
        "!pip install torch_geometric"
      ]
    },
    {
      "cell_type": "code",
      "execution_count": 2,
      "metadata": {
        "colab": {
          "base_uri": "https://localhost:8080/"
        },
        "id": "N8-smDMP-9e3",
        "outputId": "c4973792-3216-4c12-fff1-143a9e1419ad"
      },
      "outputs": [
        {
          "output_type": "stream",
          "name": "stdout",
          "text": [
            "1.10.0+cu111\n",
            "11.1\n"
          ]
        }
      ],
      "source": [
        "import numpy as np\n",
        "import torch\n",
        "import torch.nn.functional as F\n",
        "from torch.nn import Linear\n",
        "import torch_geometric\n",
        "from torch_geometric.datasets import Planetoid\n",
        "from torch_geometric.nn import APPNP, ARMAConv\n",
        "\n",
        "print(torch.__version__)\n",
        "print(torch.version.cuda)"
      ]
    },
    {
      "cell_type": "code",
      "execution_count": 3,
      "metadata": {
        "id": "YWyd8fOJCGNb"
      },
      "outputs": [],
      "source": [
        "dataset_name = 'CiteSeer'\n",
        "dataset = Planetoid(root='/tmp/'+dataset_name, name=dataset_name)"
      ]
    },
    {
      "cell_type": "code",
      "execution_count": 4,
      "metadata": {
        "colab": {
          "base_uri": "https://localhost:8080/"
        },
        "id": "N4xBJPAHEcxZ",
        "outputId": "a70700fc-65fb-4b0c-dc77-189130a57199"
      },
      "outputs": [
        {
          "output_type": "stream",
          "name": "stdout",
          "text": [
            "dataset: CiteSeer\n",
            "number of nodes: 3327, number of edges: 9104\n",
            "number of classes: 6, number of edge features: 0\n",
            "tensor([True, True, True, True, True, True, True, True, True, True, True, True,\n",
            "        True, True, True, True, True, True, True, True])\n",
            "tensor(120) tensor(500) tensor(1000)\n"
          ]
        }
      ],
      "source": [
        "data = dataset[0]\n",
        "print(f'dataset: {dataset_name}')\n",
        "print(f'number of nodes: {data.num_nodes}, number of edges: {data.num_edges}')\n",
        "print(f'number of classes: {dataset.num_classes}, number of edge features: {data.num_edge_features}')\n",
        "print(data.train_mask[:20])\n",
        "print(data.train_mask.sum(), data.val_mask.sum(), data.test_mask.sum())"
      ]
    },
    {
      "cell_type": "code",
      "execution_count": 5,
      "metadata": {
        "id": "wo1cagCCnEoT"
      },
      "outputs": [],
      "source": [
        "class Model(torch.nn.Module):\n",
        "    def __init__(self, hidden, K, alpha):\n",
        "        super().__init__()\n",
        "        # self.layer1 = ARMAConv(dataset.num_features, hidden, dropout=0.75)\n",
        "        # self.layer2 = ARMAConv(hidden, dataset.num_classes, dropout=0.75)\n",
        "        self.layer1 = Linear(dataset.num_features, hidden)\n",
        "        self.layer2 = Linear(hidden, dataset.num_classes)\n",
        "        self.prop = APPNP(K=K, alpha=alpha)\n",
        "\n",
        "    def reset_parameters(self):\n",
        "        self.layer1.reset_parameters()\n",
        "        self.layer2.reset_parameters()\n",
        "\n",
        "    def forward(self, data):\n",
        "        x, edge_index  = data.x, data.edge_index\n",
        "        x = F.dropout(x, training=self.training)\n",
        "        x = self.layer1(x).relu()\n",
        "        x = F.dropout(x, training=self.training)\n",
        "        x = self.layer2(x).relu()\n",
        "        x = self.prop(x, edge_index)\n",
        "        return x"
      ]
    },
    {
      "cell_type": "code",
      "execution_count": 6,
      "metadata": {
        "colab": {
          "base_uri": "https://localhost:8080/"
        },
        "id": "o9bBboRu4q0I",
        "outputId": "ec46c7d9-0cc6-4a1c-ffc4-e6647b0caa10"
      },
      "outputs": [
        {
          "output_type": "stream",
          "name": "stdout",
          "text": [
            "cuda is available\n",
            "Model(\n",
            "  (layer1): Linear(in_features=3703, out_features=256, bias=True)\n",
            "  (layer2): Linear(in_features=256, out_features=6, bias=True)\n",
            "  (prop): APPNP(K=50, alpha=0.1)\n",
            ")\n",
            "{'layer1.weight': [256, 3703], 'layer1.bias': [256], 'layer2.weight': [6, 256], 'layer2.bias': [6]}\n",
            "epoch: 1 | loss: 1.7927 | train_acc: 0.6167 | val_acc: 0.426 | test_acc: 0.45\n",
            "epoch: 2 | loss: 1.7109 | train_acc: 0.6333 | val_acc: 0.482 | test_acc: 0.489\n",
            "epoch: 3 | loss: 1.5042 | train_acc: 0.7250 | val_acc: 0.528 | test_acc: 0.544\n",
            "epoch: 4 | loss: 1.2607 | train_acc: 0.7417 | val_acc: 0.558 | test_acc: 0.581\n",
            "epoch: 5 | loss: 1.0213 | train_acc: 0.7500 | val_acc: 0.556 | test_acc: 0.601\n",
            "epoch: 6 | loss: 0.7942 | train_acc: 0.8250 | val_acc: 0.584 | test_acc: 0.612\n",
            "epoch: 7 | loss: 0.5775 | train_acc: 0.9250 | val_acc: 0.66 | test_acc: 0.687\n",
            "epoch: 11 | loss: 0.1784 | train_acc: 0.9667 | val_acc: 0.696 | test_acc: 0.69\n",
            "epoch: 12 | loss: 0.1422 | train_acc: 0.9833 | val_acc: 0.68 | test_acc: 0.698\n",
            "epoch: 23 | loss: 0.0481 | train_acc: 0.9917 | val_acc: 0.698 | test_acc: 0.699\n",
            "epoch: 37 | loss: 0.0516 | train_acc: 0.9917 | val_acc: 0.698 | test_acc: 0.702\n",
            "epoch: 38 | loss: 0.0317 | train_acc: 1.0000 | val_acc: 0.71 | test_acc: 0.707\n",
            "epoch: 55 | loss: 0.0232 | train_acc: 1.0000 | val_acc: 0.694 | test_acc: 0.708\n",
            "epoch: 63 | loss: 0.0412 | train_acc: 0.9833 | val_acc: 0.714 | test_acc: 0.71\n"
          ]
        }
      ],
      "source": [
        "print('cuda' if torch.cuda.is_available() else 'cpu', 'is available')\n",
        "device = torch.device('cuda' if torch.cuda.is_available() else 'cpu')\n",
        "model = Model(hidden=256, K=50, alpha=0.1).to(device)\n",
        "print(model)\n",
        "model.reset_parameters()\n",
        "print({i:list(j.shape) for i, j in model.named_parameters()})\n",
        "\n",
        "data = dataset[0].to(device)\n",
        "optimizer = torch.optim.Adam(model.parameters(), lr=0.01, weight_decay=5e-4)\n",
        "criterion = torch.nn.CrossEntropyLoss()\n",
        "\n",
        "def train():\n",
        "    model.train()\n",
        "    pred = model(data)\n",
        "    optimizer.zero_grad(set_to_none=True)\n",
        "    loss = criterion(pred[data.train_mask], data.y[data.train_mask])\n",
        "    loss.backward()\n",
        "    optimizer.step()\n",
        "    return loss\n",
        "\n",
        "def test(mask):\n",
        "    model.eval()\n",
        "    pred = model(data)\n",
        "    optimizer.zero_grad(set_to_none=True)\n",
        "    correct = pred.argmax(dim=1)[mask] == data.y[mask]\n",
        "    acc = int(correct.sum()) / int(mask.sum())\n",
        "    return acc\n",
        "\n",
        "best_acc = 0\n",
        "epochs = 100\n",
        "for epoch in range(1, epochs+1):\n",
        "    loss = train()\n",
        "    train_acc = test(data.train_mask)\n",
        "    val_acc = test(data.val_mask)\n",
        "    test_acc = test(data.test_mask)\n",
        "    if best_acc < test_acc:\n",
        "        best_acc = test_acc\n",
        "        print(f'epoch: {epoch} | loss: {loss.item():.4f} | train_acc: {train_acc:.4f} | val_acc: {val_acc} | test_acc: {test_acc}')"
      ]
    }
  ],
  "metadata": {
    "colab": {
      "collapsed_sections": [],
      "name": "graph_neural_network_by_pytorch_geometric.ipynb",
      "provenance": [],
      "authorship_tag": "ABX9TyMx8Fk+lhC9JK4iQHFfHo/V",
      "include_colab_link": true
    },
    "kernelspec": {
      "display_name": "Python 3",
      "name": "python3"
    },
    "language_info": {
      "name": "python"
    },
    "accelerator": "GPU"
  },
  "nbformat": 4,
  "nbformat_minor": 0
}