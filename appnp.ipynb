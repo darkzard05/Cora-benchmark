{
  "cells": [
    {
      "cell_type": "markdown",
      "metadata": {
        "id": "view-in-github",
        "colab_type": "text"
      },
      "source": [
        "<a href=\"https://colab.research.google.com/github/darkzard05/Cora_dataset_benchmark/blob/main/appnp.ipynb\" target=\"_parent\"><img src=\"https://colab.research.google.com/assets/colab-badge.svg\" alt=\"Open In Colab\"/></a>"
      ]
    },
    {
      "cell_type": "code",
      "execution_count": 1,
      "metadata": {
        "colab": {
          "base_uri": "https://localhost:8080/"
        },
        "id": "8U_rypC--3Mc",
        "outputId": "cf34b11c-566e-4c59-cc40-bfd77b3fe5ae"
      },
      "outputs": [
        {
          "output_type": "stream",
          "name": "stdout",
          "text": [
            "Looking in links: https://data.pyg.org/whl/torch-1.11.0+cu113.html\n",
            "Collecting torch-scatter\n",
            "  Downloading https://data.pyg.org/whl/torch-1.11.0%2Bcu113/torch_scatter-2.0.9-cp37-cp37m-linux_x86_64.whl (7.9 MB)\n",
            "\u001b[K     |████████████████████████████████| 7.9 MB 5.0 MB/s \n",
            "\u001b[?25hCollecting torch-sparse\n",
            "  Downloading https://data.pyg.org/whl/torch-1.11.0%2Bcu113/torch_sparse-0.6.13-cp37-cp37m-linux_x86_64.whl (3.5 MB)\n",
            "\u001b[K     |████████████████████████████████| 3.5 MB 50.8 MB/s \n",
            "\u001b[?25hCollecting torch-spline-conv\n",
            "  Downloading https://data.pyg.org/whl/torch-1.11.0%2Bcu113/torch_spline_conv-1.2.1-cp37-cp37m-linux_x86_64.whl (750 kB)\n",
            "\u001b[K     |████████████████████████████████| 750 kB 68.9 MB/s \n",
            "\u001b[?25hCollecting torch_geometric\n",
            "  Downloading torch_geometric-2.0.4.tar.gz (407 kB)\n",
            "\u001b[K     |████████████████████████████████| 407 kB 4.7 MB/s \n",
            "\u001b[?25hRequirement already satisfied: scipy in /usr/local/lib/python3.7/dist-packages (from torch-sparse) (1.4.1)\n",
            "Requirement already satisfied: tqdm in /usr/local/lib/python3.7/dist-packages (from torch_geometric) (4.64.0)\n",
            "Requirement already satisfied: numpy in /usr/local/lib/python3.7/dist-packages (from torch_geometric) (1.21.6)\n",
            "Requirement already satisfied: pandas in /usr/local/lib/python3.7/dist-packages (from torch_geometric) (1.3.5)\n",
            "Requirement already satisfied: jinja2 in /usr/local/lib/python3.7/dist-packages (from torch_geometric) (2.11.3)\n",
            "Requirement already satisfied: requests in /usr/local/lib/python3.7/dist-packages (from torch_geometric) (2.23.0)\n",
            "Requirement already satisfied: pyparsing in /usr/local/lib/python3.7/dist-packages (from torch_geometric) (3.0.8)\n",
            "Requirement already satisfied: scikit-learn in /usr/local/lib/python3.7/dist-packages (from torch_geometric) (1.0.2)\n",
            "Requirement already satisfied: MarkupSafe>=0.23 in /usr/local/lib/python3.7/dist-packages (from jinja2->torch_geometric) (2.0.1)\n",
            "Requirement already satisfied: pytz>=2017.3 in /usr/local/lib/python3.7/dist-packages (from pandas->torch_geometric) (2022.1)\n",
            "Requirement already satisfied: python-dateutil>=2.7.3 in /usr/local/lib/python3.7/dist-packages (from pandas->torch_geometric) (2.8.2)\n",
            "Requirement already satisfied: six>=1.5 in /usr/local/lib/python3.7/dist-packages (from python-dateutil>=2.7.3->pandas->torch_geometric) (1.15.0)\n",
            "Requirement already satisfied: chardet<4,>=3.0.2 in /usr/local/lib/python3.7/dist-packages (from requests->torch_geometric) (3.0.4)\n",
            "Requirement already satisfied: idna<3,>=2.5 in /usr/local/lib/python3.7/dist-packages (from requests->torch_geometric) (2.10)\n",
            "Requirement already satisfied: urllib3!=1.25.0,!=1.25.1,<1.26,>=1.21.1 in /usr/local/lib/python3.7/dist-packages (from requests->torch_geometric) (1.24.3)\n",
            "Requirement already satisfied: certifi>=2017.4.17 in /usr/local/lib/python3.7/dist-packages (from requests->torch_geometric) (2021.10.8)\n",
            "Requirement already satisfied: joblib>=0.11 in /usr/local/lib/python3.7/dist-packages (from scikit-learn->torch_geometric) (1.1.0)\n",
            "Requirement already satisfied: threadpoolctl>=2.0.0 in /usr/local/lib/python3.7/dist-packages (from scikit-learn->torch_geometric) (3.1.0)\n",
            "Building wheels for collected packages: torch-geometric\n",
            "  Building wheel for torch-geometric (setup.py) ... \u001b[?25l\u001b[?25hdone\n",
            "  Created wheel for torch-geometric: filename=torch_geometric-2.0.4-py3-none-any.whl size=616603 sha256=721bd18557a9c57f349ea9cb4456fa74e87005c8c558d0c530d615518f80d19c\n",
            "  Stored in directory: /root/.cache/pip/wheels/18/a6/a4/ca18c3051fcead866fe7b85700ee2240d883562a1bc70ce421\n",
            "Successfully built torch-geometric\n",
            "Installing collected packages: torch-spline-conv, torch-sparse, torch-scatter, torch-geometric\n",
            "Successfully installed torch-geometric-2.0.4 torch-scatter-2.0.9 torch-sparse-0.6.13 torch-spline-conv-1.2.1\n"
          ]
        }
      ],
      "source": [
        "!pip install torch-scatter torch-sparse torch-spline-conv torch_geometric -f https://data.pyg.org/whl/torch-1.11.0+cu113.html"
      ]
    },
    {
      "cell_type": "code",
      "execution_count": 2,
      "metadata": {
        "id": "N8-smDMP-9e3",
        "colab": {
          "base_uri": "https://localhost:8080/"
        },
        "outputId": "e37b34ad-e168-45f2-ef60-8bab116c73a0"
      },
      "outputs": [
        {
          "output_type": "stream",
          "name": "stdout",
          "text": [
            "1.11.0+cu113\n"
          ]
        }
      ],
      "source": [
        "import numpy as np\n",
        "import torch\n",
        "import torch.nn.functional as F\n",
        "from torch.nn import Linear\n",
        "import torch_geometric\n",
        "import torch_geometric.transforms as T\n",
        "from torch_geometric.datasets import Planetoid\n",
        "from torch_geometric.nn import APPNP\n",
        "\n",
        "print(torch.__version__)"
      ]
    },
    {
      "cell_type": "code",
      "execution_count": 3,
      "metadata": {
        "id": "YWyd8fOJCGNb",
        "colab": {
          "base_uri": "https://localhost:8080/"
        },
        "outputId": "3d0cc630-099b-4100-be38-fdf54b759e15"
      },
      "outputs": [
        {
          "output_type": "stream",
          "name": "stderr",
          "text": [
            "Downloading https://github.com/kimiyoung/planetoid/raw/master/data/ind.cora.x\n",
            "Downloading https://github.com/kimiyoung/planetoid/raw/master/data/ind.cora.tx\n",
            "Downloading https://github.com/kimiyoung/planetoid/raw/master/data/ind.cora.allx\n",
            "Downloading https://github.com/kimiyoung/planetoid/raw/master/data/ind.cora.y\n",
            "Downloading https://github.com/kimiyoung/planetoid/raw/master/data/ind.cora.ty\n",
            "Downloading https://github.com/kimiyoung/planetoid/raw/master/data/ind.cora.ally\n",
            "Downloading https://github.com/kimiyoung/planetoid/raw/master/data/ind.cora.graph\n",
            "Downloading https://github.com/kimiyoung/planetoid/raw/master/data/ind.cora.test.index\n",
            "Processing...\n",
            "Done!\n"
          ]
        }
      ],
      "source": [
        "dataset_name = 'Cora'\n",
        "dataset = Planetoid(root='/tmp/'+dataset_name, name=dataset_name)"
      ]
    },
    {
      "cell_type": "code",
      "execution_count": 4,
      "metadata": {
        "id": "N4xBJPAHEcxZ",
        "colab": {
          "base_uri": "https://localhost:8080/"
        },
        "outputId": "ef093935-a03a-4aa7-a288-868f7a6032d8"
      },
      "outputs": [
        {
          "output_type": "stream",
          "name": "stdout",
          "text": [
            "dataset name: Cora\n",
            "number of nodes: 2708, number of edges: 10556\n",
            "number of classes: 7, number of edge features: 0\n",
            "tensor([True, True, True, True, True, True, True, True, True, True, True, True,\n",
            "        True, True, True, True, True, True, True, True])\n",
            "tensor(140) tensor(500) tensor(1000)\n"
          ]
        }
      ],
      "source": [
        "data = dataset[0]\n",
        "print(f'dataset name: {dataset_name}')\n",
        "print(f'number of nodes: {data.num_nodes}, number of edges: {data.num_edges}')\n",
        "print(f'number of classes: {dataset.num_classes}, number of edge features: {data.num_edge_features}')\n",
        "print(data.train_mask[:20])\n",
        "print(data.train_mask.sum(), data.val_mask.sum(), data.test_mask.sum())"
      ]
    },
    {
      "cell_type": "code",
      "execution_count": 5,
      "metadata": {
        "id": "wo1cagCCnEoT"
      },
      "outputs": [],
      "source": [
        "class Model(torch.nn.Module):\n",
        "    def __init__(self, hidden, K, alpha):\n",
        "        super().__init__()\n",
        "        self.layer1 = Linear(dataset.num_features, hidden)\n",
        "        self.layer2 = Linear(hidden, dataset.num_classes)\n",
        "        self.prop = APPNP(K=K, alpha=alpha)\n",
        "\n",
        "    def reset_parameters(self):\n",
        "        self.layer1.reset_parameters()\n",
        "        self.layer2.reset_parameters()\n",
        "\n",
        "    def forward(self, d):\n",
        "        x, edge_index = d.x, d.edge_index\n",
        "        x = F.dropout(x, training=self.training)\n",
        "        x = self.layer1(x).relu()\n",
        "        x = F.dropout(x, training=self.training)\n",
        "        x = self.layer2(x).relu()\n",
        "        x = self.prop(x, edge_index)\n",
        "        return x"
      ]
    },
    {
      "cell_type": "code",
      "execution_count": 6,
      "metadata": {
        "id": "o9bBboRu4q0I",
        "colab": {
          "base_uri": "https://localhost:8080/"
        },
        "outputId": "0893086b-145f-42af-dee2-61654d0fc25b"
      },
      "outputs": [
        {
          "output_type": "stream",
          "name": "stdout",
          "text": [
            "cuda is available\n",
            "Model(\n",
            "  (layer1): Linear(in_features=1433, out_features=16, bias=True)\n",
            "  (layer2): Linear(in_features=16, out_features=7, bias=True)\n",
            "  (prop): APPNP(K=50, alpha=0.1)\n",
            ")\n",
            "{'layer1.weight': [16, 1433], 'layer1.bias': [16], 'layer2.weight': [7, 16], 'layer2.bias': [7]}\n",
            "epoch: 1 | loss: 1.9469 | train_acc: 0.1500 | val_acc: 0.164 | test_acc: 0.15\n",
            "epoch: 2 | loss: 1.9294 | train_acc: 0.3429 | val_acc: 0.21 | test_acc: 0.215\n",
            "epoch: 3 | loss: 1.9012 | train_acc: 0.4143 | val_acc: 0.268 | test_acc: 0.274\n",
            "epoch: 4 | loss: 1.8844 | train_acc: 0.5071 | val_acc: 0.32 | test_acc: 0.335\n",
            "epoch: 5 | loss: 1.8408 | train_acc: 0.5429 | val_acc: 0.332 | test_acc: 0.364\n",
            "epoch: 6 | loss: 1.7926 | train_acc: 0.5571 | val_acc: 0.338 | test_acc: 0.368\n",
            "epoch: 7 | loss: 1.7727 | train_acc: 0.5571 | val_acc: 0.344 | test_acc: 0.37\n",
            "epoch: 8 | loss: 1.7418 | train_acc: 0.5571 | val_acc: 0.344 | test_acc: 0.372\n",
            "epoch: 9 | loss: 1.6798 | train_acc: 0.5500 | val_acc: 0.342 | test_acc: 0.373\n",
            "epoch: 10 | loss: 1.6519 | train_acc: 0.5571 | val_acc: 0.348 | test_acc: 0.374\n",
            "epoch: 11 | loss: 1.6234 | train_acc: 0.5786 | val_acc: 0.356 | test_acc: 0.389\n",
            "epoch: 12 | loss: 1.5743 | train_acc: 0.5857 | val_acc: 0.364 | test_acc: 0.404\n",
            "epoch: 13 | loss: 1.5232 | train_acc: 0.6143 | val_acc: 0.378 | test_acc: 0.421\n",
            "epoch: 14 | loss: 1.4903 | train_acc: 0.6357 | val_acc: 0.408 | test_acc: 0.452\n",
            "epoch: 15 | loss: 1.4851 | train_acc: 0.6357 | val_acc: 0.444 | test_acc: 0.492\n",
            "epoch: 16 | loss: 1.4460 | train_acc: 0.6357 | val_acc: 0.482 | test_acc: 0.522\n",
            "epoch: 17 | loss: 1.3678 | train_acc: 0.6429 | val_acc: 0.504 | test_acc: 0.545\n",
            "epoch: 18 | loss: 1.3456 | train_acc: 0.6714 | val_acc: 0.524 | test_acc: 0.565\n",
            "epoch: 19 | loss: 1.3593 | train_acc: 0.6714 | val_acc: 0.544 | test_acc: 0.578\n",
            "epoch: 20 | loss: 1.2805 | train_acc: 0.6786 | val_acc: 0.556 | test_acc: 0.591\n",
            "epoch: 21 | loss: 1.2700 | train_acc: 0.7214 | val_acc: 0.588 | test_acc: 0.615\n",
            "epoch: 22 | loss: 1.2061 | train_acc: 0.7500 | val_acc: 0.624 | test_acc: 0.652\n",
            "epoch: 23 | loss: 1.1994 | train_acc: 0.8000 | val_acc: 0.656 | test_acc: 0.68\n",
            "epoch: 24 | loss: 1.1667 | train_acc: 0.8143 | val_acc: 0.662 | test_acc: 0.703\n",
            "epoch: 25 | loss: 1.1167 | train_acc: 0.8286 | val_acc: 0.678 | test_acc: 0.72\n",
            "epoch: 26 | loss: 1.1274 | train_acc: 0.8286 | val_acc: 0.688 | test_acc: 0.734\n",
            "epoch: 27 | loss: 1.1039 | train_acc: 0.8357 | val_acc: 0.696 | test_acc: 0.748\n",
            "epoch: 28 | loss: 1.0533 | train_acc: 0.8500 | val_acc: 0.706 | test_acc: 0.753\n",
            "epoch: 29 | loss: 1.0584 | train_acc: 0.8500 | val_acc: 0.71 | test_acc: 0.758\n",
            "epoch: 30 | loss: 1.0018 | train_acc: 0.8500 | val_acc: 0.714 | test_acc: 0.761\n",
            "epoch: 37 | loss: 0.8612 | train_acc: 0.8500 | val_acc: 0.724 | test_acc: 0.762\n",
            "epoch: 38 | loss: 0.8090 | train_acc: 0.8500 | val_acc: 0.732 | test_acc: 0.766\n",
            "epoch: 39 | loss: 0.7811 | train_acc: 0.8571 | val_acc: 0.734 | test_acc: 0.768\n",
            "epoch: 40 | loss: 0.7648 | train_acc: 0.8857 | val_acc: 0.74 | test_acc: 0.787\n",
            "epoch: 41 | loss: 0.8008 | train_acc: 0.9071 | val_acc: 0.758 | test_acc: 0.8\n",
            "epoch: 42 | loss: 0.7181 | train_acc: 0.9214 | val_acc: 0.764 | test_acc: 0.803\n",
            "epoch: 46 | loss: 0.6825 | train_acc: 0.9643 | val_acc: 0.766 | test_acc: 0.806\n",
            "epoch: 47 | loss: 0.6338 | train_acc: 0.9571 | val_acc: 0.77 | test_acc: 0.807\n",
            "epoch: 48 | loss: 0.6524 | train_acc: 0.9571 | val_acc: 0.778 | test_acc: 0.818\n",
            "epoch: 49 | loss: 0.6046 | train_acc: 0.9714 | val_acc: 0.784 | test_acc: 0.821\n",
            "epoch: 50 | loss: 0.5747 | train_acc: 0.9786 | val_acc: 0.786 | test_acc: 0.828\n",
            "epoch: 51 | loss: 0.5298 | train_acc: 0.9786 | val_acc: 0.79 | test_acc: 0.83\n",
            "epoch: 76 | loss: 0.3666 | train_acc: 0.9857 | val_acc: 0.808 | test_acc: 0.831\n",
            "epoch: 79 | loss: 0.3169 | train_acc: 1.0000 | val_acc: 0.806 | test_acc: 0.833\n",
            "epoch: 80 | loss: 0.3024 | train_acc: 1.0000 | val_acc: 0.812 | test_acc: 0.834\n",
            "epoch: 88 | loss: 0.3706 | train_acc: 0.9929 | val_acc: 0.806 | test_acc: 0.835\n",
            "epoch: 100 | loss: 0.2834 | train_acc: 0.9929 | val_acc: 0.808 | test_acc: 0.842\n",
            "epoch: 215 | loss: 0.2383 | train_acc: 0.9929 | val_acc: 0.804 | test_acc: 0.845\n",
            "epoch: 216 | loss: 0.1916 | train_acc: 0.9929 | val_acc: 0.81 | test_acc: 0.851\n"
          ]
        }
      ],
      "source": [
        "print('cuda' if torch.cuda.is_available() else 'cpu', 'is available')\n",
        "device = torch.device('cuda' if torch.cuda.is_available() else 'cpu')\n",
        "model = Model(hidden=16, K=50, alpha=0.1).to(device)\n",
        "print(model)\n",
        "model.reset_parameters()\n",
        "print({i:list(j.shape) for i, j in model.named_parameters()})\n",
        "\n",
        "data = dataset[0].to(device)\n",
        "optimizer = torch.optim.Adam(model.parameters(), lr=1e-2, weight_decay=5e-3)\n",
        "criterion = torch.nn.CrossEntropyLoss()\n",
        "\n",
        "def train():\n",
        "    model.train()\n",
        "    optimizer.zero_grad(set_to_none=True)\n",
        "    loss = criterion(model(data)[data.train_mask], data.y[data.train_mask])\n",
        "    loss.backward()\n",
        "    optimizer.step()\n",
        "    return loss\n",
        "\n",
        "@torch.no_grad()\n",
        "def test(mask):\n",
        "    model.eval()\n",
        "    correct = model(data).argmax(dim=1)[mask] == data.y[mask]\n",
        "    acc = int(correct.sum()) / int(mask.sum())\n",
        "    return acc\n",
        "\n",
        "best_acc = 0\n",
        "epochs = 1000\n",
        "for epoch in range(1, epochs+1):\n",
        "    loss = train()\n",
        "    train_acc = test(data.train_mask)\n",
        "    val_acc = test(data.val_mask)\n",
        "    test_acc = test(data.test_mask)\n",
        "    if best_acc < test_acc:\n",
        "        best_acc = test_acc\n",
        "        print(f'epoch: {epoch} | loss: {loss.item():.4f} | train_acc: {train_acc:.4f} | val_acc: {val_acc} | test_acc: {test_acc}')"
      ]
    }
  ],
  "metadata": {
    "colab": {
      "collapsed_sections": [],
      "name": "appnp.ipynb",
      "provenance": [],
      "authorship_tag": "ABX9TyNAnMrhx2zUEnZNHHF0ePvL",
      "include_colab_link": true
    },
    "kernelspec": {
      "display_name": "Python 3",
      "name": "python3"
    },
    "language_info": {
      "name": "python"
    },
    "accelerator": "GPU"
  },
  "nbformat": 4,
  "nbformat_minor": 0
}