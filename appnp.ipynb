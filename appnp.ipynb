{
  "cells": [
    {
      "cell_type": "markdown",
      "metadata": {
        "id": "view-in-github",
        "colab_type": "text"
      },
      "source": [
        "<a href=\"https://colab.research.google.com/github/darkzard05/Cora_dataset_benchmark/blob/main/appnp.ipynb\" target=\"_parent\"><img src=\"https://colab.research.google.com/assets/colab-badge.svg\" alt=\"Open In Colab\"/></a>"
      ]
    },
    {
      "cell_type": "code",
      "execution_count": 1,
      "metadata": {
        "colab": {
          "base_uri": "https://localhost:8080/"
        },
        "id": "8U_rypC--3Mc",
        "outputId": "7dac28e1-cb21-4f64-e6f7-d2f001d9bb7b"
      },
      "outputs": [
        {
          "output_type": "stream",
          "name": "stdout",
          "text": [
            "Looking in links: https://data.pyg.org/whl/torch-1.11.0+cu113.html\n",
            "Collecting torch-scatter\n",
            "  Downloading https://data.pyg.org/whl/torch-1.11.0%2Bcu113/torch_scatter-2.0.9-cp37-cp37m-linux_x86_64.whl (7.9 MB)\n",
            "\u001b[K     |████████████████████████████████| 7.9 MB 6.8 MB/s \n",
            "\u001b[?25hCollecting torch-sparse\n",
            "  Downloading https://data.pyg.org/whl/torch-1.11.0%2Bcu113/torch_sparse-0.6.13-cp37-cp37m-linux_x86_64.whl (3.5 MB)\n",
            "\u001b[K     |████████████████████████████████| 3.5 MB 59.9 MB/s \n",
            "\u001b[?25hCollecting torch-spline-conv\n",
            "  Downloading https://data.pyg.org/whl/torch-1.11.0%2Bcu113/torch_spline_conv-1.2.1-cp37-cp37m-linux_x86_64.whl (750 kB)\n",
            "\u001b[K     |████████████████████████████████| 750 kB 53.3 MB/s \n",
            "\u001b[?25hCollecting torch_geometric\n",
            "  Downloading torch_geometric-2.0.4.tar.gz (407 kB)\n",
            "\u001b[K     |████████████████████████████████| 407 kB 9.2 MB/s \n",
            "\u001b[?25hRequirement already satisfied: scipy in /usr/local/lib/python3.7/dist-packages (from torch-sparse) (1.4.1)\n",
            "Requirement already satisfied: tqdm in /usr/local/lib/python3.7/dist-packages (from torch_geometric) (4.64.0)\n",
            "Requirement already satisfied: numpy in /usr/local/lib/python3.7/dist-packages (from torch_geometric) (1.21.6)\n",
            "Requirement already satisfied: pandas in /usr/local/lib/python3.7/dist-packages (from torch_geometric) (1.3.5)\n",
            "Requirement already satisfied: jinja2 in /usr/local/lib/python3.7/dist-packages (from torch_geometric) (2.11.3)\n",
            "Requirement already satisfied: requests in /usr/local/lib/python3.7/dist-packages (from torch_geometric) (2.23.0)\n",
            "Requirement already satisfied: pyparsing in /usr/local/lib/python3.7/dist-packages (from torch_geometric) (3.0.8)\n",
            "Requirement already satisfied: scikit-learn in /usr/local/lib/python3.7/dist-packages (from torch_geometric) (1.0.2)\n",
            "Requirement already satisfied: MarkupSafe>=0.23 in /usr/local/lib/python3.7/dist-packages (from jinja2->torch_geometric) (2.0.1)\n",
            "Requirement already satisfied: python-dateutil>=2.7.3 in /usr/local/lib/python3.7/dist-packages (from pandas->torch_geometric) (2.8.2)\n",
            "Requirement already satisfied: pytz>=2017.3 in /usr/local/lib/python3.7/dist-packages (from pandas->torch_geometric) (2022.1)\n",
            "Requirement already satisfied: six>=1.5 in /usr/local/lib/python3.7/dist-packages (from python-dateutil>=2.7.3->pandas->torch_geometric) (1.15.0)\n",
            "Requirement already satisfied: chardet<4,>=3.0.2 in /usr/local/lib/python3.7/dist-packages (from requests->torch_geometric) (3.0.4)\n",
            "Requirement already satisfied: urllib3!=1.25.0,!=1.25.1,<1.26,>=1.21.1 in /usr/local/lib/python3.7/dist-packages (from requests->torch_geometric) (1.24.3)\n",
            "Requirement already satisfied: certifi>=2017.4.17 in /usr/local/lib/python3.7/dist-packages (from requests->torch_geometric) (2021.10.8)\n",
            "Requirement already satisfied: idna<3,>=2.5 in /usr/local/lib/python3.7/dist-packages (from requests->torch_geometric) (2.10)\n",
            "Requirement already satisfied: joblib>=0.11 in /usr/local/lib/python3.7/dist-packages (from scikit-learn->torch_geometric) (1.1.0)\n",
            "Requirement already satisfied: threadpoolctl>=2.0.0 in /usr/local/lib/python3.7/dist-packages (from scikit-learn->torch_geometric) (3.1.0)\n",
            "Building wheels for collected packages: torch-geometric\n",
            "  Building wheel for torch-geometric (setup.py) ... \u001b[?25l\u001b[?25hdone\n",
            "  Created wheel for torch-geometric: filename=torch_geometric-2.0.4-py3-none-any.whl size=616603 sha256=ce73bf16e8806f07b34e2d0832994cd0c4e0ba4c8cfbf997c3e00747462fe67c\n",
            "  Stored in directory: /root/.cache/pip/wheels/18/a6/a4/ca18c3051fcead866fe7b85700ee2240d883562a1bc70ce421\n",
            "Successfully built torch-geometric\n",
            "Installing collected packages: torch-spline-conv, torch-sparse, torch-scatter, torch-geometric\n",
            "Successfully installed torch-geometric-2.0.4 torch-scatter-2.0.9 torch-sparse-0.6.13 torch-spline-conv-1.2.1\n"
          ]
        }
      ],
      "source": [
        "!pip install torch-scatter torch-sparse torch-spline-conv torch_geometric -f https://data.pyg.org/whl/torch-1.11.0+cu113.html"
      ]
    },
    {
      "cell_type": "code",
      "execution_count": 2,
      "metadata": {
        "id": "N8-smDMP-9e3",
        "colab": {
          "base_uri": "https://localhost:8080/"
        },
        "outputId": "14bbdf42-5916-43ac-9afa-a9370aa0e222"
      },
      "outputs": [
        {
          "output_type": "stream",
          "name": "stdout",
          "text": [
            "1.11.0+cu113\n"
          ]
        }
      ],
      "source": [
        "import numpy as np\n",
        "import torch\n",
        "import torch.nn.functional as F\n",
        "from torch.nn import Linear\n",
        "import torch_geometric\n",
        "import torch_geometric.transforms as T\n",
        "from torch_geometric.datasets import Planetoid\n",
        "from torch_geometric.nn import APPNP\n",
        "\n",
        "print(torch.__version__)"
      ]
    },
    {
      "cell_type": "code",
      "execution_count": 3,
      "metadata": {
        "id": "YWyd8fOJCGNb",
        "colab": {
          "base_uri": "https://localhost:8080/"
        },
        "outputId": "49c5144f-b25a-4da2-c401-3528432b1c60"
      },
      "outputs": [
        {
          "output_type": "stream",
          "name": "stderr",
          "text": [
            "Downloading https://github.com/kimiyoung/planetoid/raw/master/data/ind.cora.x\n",
            "Downloading https://github.com/kimiyoung/planetoid/raw/master/data/ind.cora.tx\n",
            "Downloading https://github.com/kimiyoung/planetoid/raw/master/data/ind.cora.allx\n",
            "Downloading https://github.com/kimiyoung/planetoid/raw/master/data/ind.cora.y\n",
            "Downloading https://github.com/kimiyoung/planetoid/raw/master/data/ind.cora.ty\n",
            "Downloading https://github.com/kimiyoung/planetoid/raw/master/data/ind.cora.ally\n",
            "Downloading https://github.com/kimiyoung/planetoid/raw/master/data/ind.cora.graph\n",
            "Downloading https://github.com/kimiyoung/planetoid/raw/master/data/ind.cora.test.index\n",
            "Processing...\n",
            "Done!\n"
          ]
        }
      ],
      "source": [
        "dataset_name = 'Cora'\n",
        "dataset = Planetoid(root='/tmp/'+dataset_name, name=dataset_name)"
      ]
    },
    {
      "cell_type": "code",
      "execution_count": 4,
      "metadata": {
        "id": "N4xBJPAHEcxZ",
        "colab": {
          "base_uri": "https://localhost:8080/"
        },
        "outputId": "5fc65763-a607-4c2d-f2ea-5d0d59a6c8c6"
      },
      "outputs": [
        {
          "output_type": "stream",
          "name": "stdout",
          "text": [
            "dataset name: Cora\n",
            "number of nodes: 2708, number of edges: 10556\n",
            "number of classes: 7, number of edge features: 0\n",
            "tensor([True, True, True, True, True, True, True, True, True, True, True, True,\n",
            "        True, True, True, True, True, True, True, True])\n",
            "tensor(140) tensor(500) tensor(1000)\n"
          ]
        }
      ],
      "source": [
        "data = dataset[0]\n",
        "print(f'dataset name: {dataset_name}')\n",
        "print(f'number of nodes: {data.num_nodes}, number of edges: {data.num_edges}')\n",
        "print(f'number of classes: {dataset.num_classes}, number of edge features: {data.num_edge_features}')\n",
        "print(data.train_mask[:20])\n",
        "print(data.train_mask.sum(), data.val_mask.sum(), data.test_mask.sum())"
      ]
    },
    {
      "cell_type": "code",
      "execution_count": 5,
      "metadata": {
        "id": "wo1cagCCnEoT"
      },
      "outputs": [],
      "source": [
        "class Model(torch.nn.Module):\n",
        "    def __init__(self, hidden, K, alpha):\n",
        "        super().__init__()\n",
        "        self.layer1 = Linear(dataset.num_features, hidden)\n",
        "        self.layer2 = Linear(hidden, dataset.num_classes)\n",
        "        self.prop = APPNP(K=K, alpha=alpha)\n",
        "\n",
        "    def reset_parameters(self):\n",
        "        self.layer1.reset_parameters()\n",
        "        self.layer2.reset_parameters()\n",
        "\n",
        "    def forward(self, data):\n",
        "        x, edge_index = data.x, data.edge_index\n",
        "        x = F.dropout(x, training=self.training)\n",
        "        x = self.layer1(x).relu()\n",
        "        x = F.dropout(x, training=self.training)\n",
        "        x = self.layer2(x).relu()\n",
        "        x = self.prop(x, edge_index)\n",
        "        return x"
      ]
    },
    {
      "cell_type": "code",
      "execution_count": 6,
      "metadata": {
        "id": "o9bBboRu4q0I",
        "colab": {
          "base_uri": "https://localhost:8080/"
        },
        "outputId": "da68b538-a656-4430-ece1-8af0376a14b6"
      },
      "outputs": [
        {
          "output_type": "stream",
          "name": "stdout",
          "text": [
            "cuda is available\n",
            "Model(\n",
            "  (layer1): Linear(in_features=1433, out_features=16, bias=True)\n",
            "  (layer2): Linear(in_features=16, out_features=7, bias=True)\n",
            "  (prop): APPNP(K=50, alpha=0.1)\n",
            ")\n",
            "{'layer1.weight': [16, 1433], 'layer1.bias': [16], 'layer2.weight': [7, 16], 'layer2.bias': [7]}\n",
            "epoch: 1 | loss: 1.9522 | train_acc: 0.1429 | val_acc: 0.164 | test_acc: 0.147\n",
            "epoch: 2 | loss: 1.9361 | train_acc: 0.2714 | val_acc: 0.302 | test_acc: 0.271\n",
            "epoch: 3 | loss: 1.9197 | train_acc: 0.4214 | val_acc: 0.39 | test_acc: 0.37\n",
            "epoch: 4 | loss: 1.9000 | train_acc: 0.4143 | val_acc: 0.404 | test_acc: 0.394\n",
            "epoch: 5 | loss: 1.8851 | train_acc: 0.4571 | val_acc: 0.426 | test_acc: 0.408\n",
            "epoch: 6 | loss: 1.8625 | train_acc: 0.5000 | val_acc: 0.456 | test_acc: 0.445\n",
            "epoch: 7 | loss: 1.8305 | train_acc: 0.5143 | val_acc: 0.47 | test_acc: 0.456\n",
            "epoch: 8 | loss: 1.7999 | train_acc: 0.5214 | val_acc: 0.478 | test_acc: 0.464\n",
            "epoch: 9 | loss: 1.7855 | train_acc: 0.5286 | val_acc: 0.478 | test_acc: 0.471\n",
            "epoch: 11 | loss: 1.7035 | train_acc: 0.6429 | val_acc: 0.512 | test_acc: 0.502\n",
            "epoch: 12 | loss: 1.6658 | train_acc: 0.6500 | val_acc: 0.536 | test_acc: 0.529\n",
            "epoch: 13 | loss: 1.6298 | train_acc: 0.6571 | val_acc: 0.542 | test_acc: 0.536\n",
            "epoch: 14 | loss: 1.6157 | train_acc: 0.6714 | val_acc: 0.54 | test_acc: 0.545\n",
            "epoch: 16 | loss: 1.5045 | train_acc: 0.6714 | val_acc: 0.54 | test_acc: 0.549\n",
            "epoch: 17 | loss: 1.5183 | train_acc: 0.6714 | val_acc: 0.546 | test_acc: 0.55\n",
            "epoch: 18 | loss: 1.4523 | train_acc: 0.6857 | val_acc: 0.546 | test_acc: 0.553\n",
            "epoch: 20 | loss: 1.4241 | train_acc: 0.6857 | val_acc: 0.548 | test_acc: 0.554\n",
            "epoch: 32 | loss: 1.1529 | train_acc: 0.7000 | val_acc: 0.55 | test_acc: 0.556\n",
            "epoch: 37 | loss: 1.0401 | train_acc: 0.7214 | val_acc: 0.564 | test_acc: 0.562\n",
            "epoch: 38 | loss: 1.0449 | train_acc: 0.7643 | val_acc: 0.624 | test_acc: 0.608\n",
            "epoch: 39 | loss: 0.9900 | train_acc: 0.7786 | val_acc: 0.68 | test_acc: 0.667\n",
            "epoch: 40 | loss: 0.9751 | train_acc: 0.8071 | val_acc: 0.72 | test_acc: 0.713\n",
            "epoch: 41 | loss: 0.9537 | train_acc: 0.8143 | val_acc: 0.75 | test_acc: 0.749\n",
            "epoch: 42 | loss: 0.9598 | train_acc: 0.8214 | val_acc: 0.764 | test_acc: 0.769\n",
            "epoch: 47 | loss: 0.8413 | train_acc: 0.8571 | val_acc: 0.764 | test_acc: 0.774\n",
            "epoch: 48 | loss: 0.8315 | train_acc: 0.8857 | val_acc: 0.768 | test_acc: 0.78\n",
            "epoch: 49 | loss: 0.7926 | train_acc: 0.8857 | val_acc: 0.774 | test_acc: 0.784\n",
            "epoch: 50 | loss: 0.7530 | train_acc: 0.9071 | val_acc: 0.774 | test_acc: 0.791\n",
            "epoch: 51 | loss: 0.7329 | train_acc: 0.9357 | val_acc: 0.788 | test_acc: 0.801\n",
            "epoch: 52 | loss: 0.7155 | train_acc: 0.9500 | val_acc: 0.796 | test_acc: 0.811\n",
            "epoch: 53 | loss: 0.6931 | train_acc: 0.9643 | val_acc: 0.8 | test_acc: 0.821\n",
            "epoch: 54 | loss: 0.6716 | train_acc: 0.9643 | val_acc: 0.806 | test_acc: 0.822\n",
            "epoch: 55 | loss: 0.6174 | train_acc: 0.9643 | val_acc: 0.804 | test_acc: 0.825\n",
            "epoch: 56 | loss: 0.6660 | train_acc: 0.9714 | val_acc: 0.8 | test_acc: 0.831\n",
            "epoch: 68 | loss: 0.4957 | train_acc: 0.9929 | val_acc: 0.814 | test_acc: 0.832\n",
            "epoch: 69 | loss: 0.3636 | train_acc: 0.9929 | val_acc: 0.808 | test_acc: 0.84\n",
            "epoch: 70 | loss: 0.3920 | train_acc: 1.0000 | val_acc: 0.804 | test_acc: 0.841\n",
            "epoch: 71 | loss: 0.3615 | train_acc: 1.0000 | val_acc: 0.804 | test_acc: 0.843\n",
            "epoch: 72 | loss: 0.3939 | train_acc: 1.0000 | val_acc: 0.804 | test_acc: 0.845\n",
            "epoch: 88 | loss: 0.3134 | train_acc: 0.9929 | val_acc: 0.82 | test_acc: 0.847\n",
            "epoch: 89 | loss: 0.2918 | train_acc: 0.9929 | val_acc: 0.82 | test_acc: 0.852\n"
          ]
        }
      ],
      "source": [
        "print('cuda' if torch.cuda.is_available() else 'cpu', 'is available')\n",
        "device = torch.device('cuda' if torch.cuda.is_available() else 'cpu')\n",
        "model = Model(hidden=16, K=50, alpha=0.1).to(device)\n",
        "print(model)\n",
        "model.reset_parameters()\n",
        "print({i:list(j.shape) for i, j in model.named_parameters()})\n",
        "\n",
        "data = dataset[0].to(device)\n",
        "optimizer = torch.optim.Adam(model.parameters(), lr=1e-2, weight_decay=5e-3)\n",
        "criterion = torch.nn.CrossEntropyLoss()\n",
        "\n",
        "def train():\n",
        "    model.train()\n",
        "    pred = model(data)\n",
        "    optimizer.zero_grad(set_to_none=True)\n",
        "    loss = criterion(pred[data.train_mask], data.y[data.train_mask])\n",
        "    loss.backward()\n",
        "    optimizer.step()\n",
        "    return loss\n",
        "\n",
        "def test(mask):\n",
        "    model.eval()\n",
        "    pred = model(data)\n",
        "    optimizer.zero_grad(set_to_none=True)\n",
        "    correct = pred.argmax(dim=1)[mask] == data.y[mask]\n",
        "    acc = int(correct.sum()) / int(mask.sum())\n",
        "    return acc\n",
        "\n",
        "best_acc = 0\n",
        "epochs = 1000\n",
        "for epoch in range(1, epochs+1):\n",
        "    loss = train()\n",
        "    train_acc = test(data.train_mask)\n",
        "    val_acc = test(data.val_mask)\n",
        "    test_acc = test(data.test_mask)\n",
        "    if best_acc < test_acc:\n",
        "        best_acc = test_acc\n",
        "        print(f'epoch: {epoch} | loss: {loss.item():.4f} | train_acc: {train_acc:.4f} | val_acc: {val_acc} | test_acc: {test_acc}')"
      ]
    }
  ],
  "metadata": {
    "colab": {
      "collapsed_sections": [],
      "name": "appnp.ipynb",
      "provenance": [],
      "authorship_tag": "ABX9TyMNY5nQGAiG3lKOhswIpQBH",
      "include_colab_link": true
    },
    "kernelspec": {
      "display_name": "Python 3",
      "name": "python3"
    },
    "language_info": {
      "name": "python"
    },
    "accelerator": "GPU"
  },
  "nbformat": 4,
  "nbformat_minor": 0
}