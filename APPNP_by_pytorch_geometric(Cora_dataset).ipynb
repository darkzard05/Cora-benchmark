{
  "cells": [
    {
      "cell_type": "markdown",
      "metadata": {
        "id": "view-in-github",
        "colab_type": "text"
      },
      "source": [
        "<a href=\"https://colab.research.google.com/github/darkzard05/graph_neural_network/blob/main/APPNP_by_pytorch_geometric(Cora_dataset).ipynb\" target=\"_parent\"><img src=\"https://colab.research.google.com/assets/colab-badge.svg\" alt=\"Open In Colab\"/></a>"
      ]
    },
    {
      "cell_type": "code",
      "execution_count": null,
      "metadata": {
        "colab": {
          "base_uri": "https://localhost:8080/"
        },
        "id": "8U_rypC--3Mc",
        "outputId": "6afd96bb-786b-4fb7-fc33-55efa2c0df15"
      },
      "outputs": [
        {
          "output_type": "stream",
          "name": "stdout",
          "text": [
            "Requirement already satisfied: torch in /usr/local/lib/python3.7/dist-packages (1.10.0+cu111)\n",
            "Requirement already satisfied: typing-extensions in /usr/local/lib/python3.7/dist-packages (from torch) (4.1.1)\n",
            "Looking in links: https://data.pyg.org/whl/torch-1.10.0+cu111.html\n",
            "Collecting torch-scatter\n",
            "  Downloading https://data.pyg.org/whl/torch-1.10.0%2Bcu113/torch_scatter-2.0.9-cp37-cp37m-linux_x86_64.whl (7.9 MB)\n",
            "\u001b[K     |████████████████████████████████| 7.9 MB 28.4 MB/s \n",
            "\u001b[?25hInstalling collected packages: torch-scatter\n",
            "Successfully installed torch-scatter-2.0.9\n",
            "Looking in links: https://data.pyg.org/whl/torch-1.10.0+cu111.html\n",
            "Collecting torch-sparse\n",
            "  Downloading https://data.pyg.org/whl/torch-1.10.0%2Bcu113/torch_sparse-0.6.13-cp37-cp37m-linux_x86_64.whl (3.5 MB)\n",
            "\u001b[K     |████████████████████████████████| 3.5 MB 35.0 MB/s \n",
            "\u001b[?25hRequirement already satisfied: scipy in /usr/local/lib/python3.7/dist-packages (from torch-sparse) (1.4.1)\n",
            "Requirement already satisfied: numpy>=1.13.3 in /usr/local/lib/python3.7/dist-packages (from scipy->torch-sparse) (1.21.6)\n",
            "Installing collected packages: torch-sparse\n",
            "Successfully installed torch-sparse-0.6.13\n",
            "Looking in links: https://data.pyg.org/whl/torch-1.10.0+cu111.html\n",
            "Collecting torch-spline-conv\n",
            "  Downloading https://data.pyg.org/whl/torch-1.10.0%2Bcu113/torch_spline_conv-1.2.1-cp37-cp37m-linux_x86_64.whl (750 kB)\n",
            "\u001b[K     |████████████████████████████████| 750 kB 38.2 MB/s \n",
            "\u001b[?25hInstalling collected packages: torch-spline-conv\n",
            "Successfully installed torch-spline-conv-1.2.1\n",
            "Collecting torch_geometric\n",
            "  Downloading torch_geometric-2.0.4.tar.gz (407 kB)\n",
            "\u001b[K     |████████████████████████████████| 407 kB 26.0 MB/s \n",
            "\u001b[?25hRequirement already satisfied: tqdm in /usr/local/lib/python3.7/dist-packages (from torch_geometric) (4.64.0)\n",
            "Requirement already satisfied: numpy in /usr/local/lib/python3.7/dist-packages (from torch_geometric) (1.21.6)\n",
            "Requirement already satisfied: scipy in /usr/local/lib/python3.7/dist-packages (from torch_geometric) (1.4.1)\n",
            "Requirement already satisfied: pandas in /usr/local/lib/python3.7/dist-packages (from torch_geometric) (1.3.5)\n",
            "Requirement already satisfied: jinja2 in /usr/local/lib/python3.7/dist-packages (from torch_geometric) (2.11.3)\n",
            "Requirement already satisfied: requests in /usr/local/lib/python3.7/dist-packages (from torch_geometric) (2.23.0)\n",
            "Requirement already satisfied: pyparsing in /usr/local/lib/python3.7/dist-packages (from torch_geometric) (3.0.8)\n",
            "Requirement already satisfied: scikit-learn in /usr/local/lib/python3.7/dist-packages (from torch_geometric) (1.0.2)\n",
            "Requirement already satisfied: MarkupSafe>=0.23 in /usr/local/lib/python3.7/dist-packages (from jinja2->torch_geometric) (2.0.1)\n",
            "Requirement already satisfied: python-dateutil>=2.7.3 in /usr/local/lib/python3.7/dist-packages (from pandas->torch_geometric) (2.8.2)\n",
            "Requirement already satisfied: pytz>=2017.3 in /usr/local/lib/python3.7/dist-packages (from pandas->torch_geometric) (2022.1)\n",
            "Requirement already satisfied: six>=1.5 in /usr/local/lib/python3.7/dist-packages (from python-dateutil>=2.7.3->pandas->torch_geometric) (1.15.0)\n",
            "Requirement already satisfied: certifi>=2017.4.17 in /usr/local/lib/python3.7/dist-packages (from requests->torch_geometric) (2021.10.8)\n",
            "Requirement already satisfied: urllib3!=1.25.0,!=1.25.1,<1.26,>=1.21.1 in /usr/local/lib/python3.7/dist-packages (from requests->torch_geometric) (1.24.3)\n",
            "Requirement already satisfied: chardet<4,>=3.0.2 in /usr/local/lib/python3.7/dist-packages (from requests->torch_geometric) (3.0.4)\n",
            "Requirement already satisfied: idna<3,>=2.5 in /usr/local/lib/python3.7/dist-packages (from requests->torch_geometric) (2.10)\n",
            "Requirement already satisfied: threadpoolctl>=2.0.0 in /usr/local/lib/python3.7/dist-packages (from scikit-learn->torch_geometric) (3.1.0)\n",
            "Requirement already satisfied: joblib>=0.11 in /usr/local/lib/python3.7/dist-packages (from scikit-learn->torch_geometric) (1.1.0)\n",
            "Building wheels for collected packages: torch-geometric\n",
            "  Building wheel for torch-geometric (setup.py) ... \u001b[?25l\u001b[?25hdone\n",
            "  Created wheel for torch-geometric: filename=torch_geometric-2.0.4-py3-none-any.whl size=616603 sha256=489ab363a3fb566c770c997090508815c5710793e2ecb99c20acfed84bcdc128\n",
            "  Stored in directory: /root/.cache/pip/wheels/18/a6/a4/ca18c3051fcead866fe7b85700ee2240d883562a1bc70ce421\n",
            "Successfully built torch-geometric\n",
            "Installing collected packages: torch-geometric\n",
            "Successfully installed torch-geometric-2.0.4\n"
          ]
        }
      ],
      "source": [
        "!pip install torch\n",
        "!pip install torch-scatter -f https://data.pyg.org/whl/torch-1.10.0+cu111.html\n",
        "!pip install torch-sparse -f https://data.pyg.org/whl/torch-1.10.0+cu111.html\n",
        "!pip install torch-spline-conv -f https://data.pyg.org/whl/torch-1.10.0+cu111.html\n",
        "!pip install torch_geometric"
      ]
    },
    {
      "cell_type": "code",
      "execution_count": null,
      "metadata": {
        "colab": {
          "base_uri": "https://localhost:8080/"
        },
        "id": "N8-smDMP-9e3",
        "outputId": "18083018-4b10-4eca-a91a-609d98e7405a"
      },
      "outputs": [
        {
          "output_type": "stream",
          "name": "stdout",
          "text": [
            "1.10.0+cu111\n",
            "11.1\n"
          ]
        }
      ],
      "source": [
        "import numpy as np\n",
        "import torch\n",
        "import torch.nn.functional as F\n",
        "from torch.nn import Linear\n",
        "import torch_geometric\n",
        "from torch_geometric.datasets import Planetoid\n",
        "from torch_geometric.nn import APPNP\n",
        "\n",
        "print(torch.__version__)\n",
        "print(torch.version.cuda)"
      ]
    },
    {
      "cell_type": "code",
      "execution_count": null,
      "metadata": {
        "id": "YWyd8fOJCGNb",
        "colab": {
          "base_uri": "https://localhost:8080/"
        },
        "outputId": "01859f85-b7f1-4b83-c121-43bf694370e1"
      },
      "outputs": [
        {
          "output_type": "stream",
          "name": "stderr",
          "text": [
            "Downloading https://github.com/kimiyoung/planetoid/raw/master/data/ind.cora.x\n",
            "Downloading https://github.com/kimiyoung/planetoid/raw/master/data/ind.cora.tx\n",
            "Downloading https://github.com/kimiyoung/planetoid/raw/master/data/ind.cora.allx\n",
            "Downloading https://github.com/kimiyoung/planetoid/raw/master/data/ind.cora.y\n",
            "Downloading https://github.com/kimiyoung/planetoid/raw/master/data/ind.cora.ty\n",
            "Downloading https://github.com/kimiyoung/planetoid/raw/master/data/ind.cora.ally\n",
            "Downloading https://github.com/kimiyoung/planetoid/raw/master/data/ind.cora.graph\n",
            "Downloading https://github.com/kimiyoung/planetoid/raw/master/data/ind.cora.test.index\n",
            "Processing...\n",
            "Done!\n"
          ]
        }
      ],
      "source": [
        "dataset_name = 'Cora'\n",
        "dataset = Planetoid(root='/tmp/'+dataset_name, name=dataset_name)"
      ]
    },
    {
      "cell_type": "code",
      "execution_count": null,
      "metadata": {
        "colab": {
          "base_uri": "https://localhost:8080/"
        },
        "id": "N4xBJPAHEcxZ",
        "outputId": "1f4adb24-6923-4ebd-811c-d26fea8e83f1"
      },
      "outputs": [
        {
          "output_type": "stream",
          "name": "stdout",
          "text": [
            "dataset name: Cora\n",
            "number of nodes: 2708, number of edges: 10556\n",
            "number of classes: 7, number of edge features: 0\n",
            "tensor([True, True, True, True, True, True, True, True, True, True, True, True,\n",
            "        True, True, True, True, True, True, True, True])\n",
            "tensor(140) tensor(500) tensor(1000)\n"
          ]
        }
      ],
      "source": [
        "data = dataset[0]\n",
        "print(f'dataset name: {dataset_name}')\n",
        "print(f'number of nodes: {data.num_nodes}, number of edges: {data.num_edges}')\n",
        "print(f'number of classes: {dataset.num_classes}, number of edge features: {data.num_edge_features}')\n",
        "print(data.train_mask[:20])\n",
        "print(data.train_mask.sum(), data.val_mask.sum(), data.test_mask.sum())"
      ]
    },
    {
      "cell_type": "code",
      "execution_count": null,
      "metadata": {
        "id": "wo1cagCCnEoT"
      },
      "outputs": [],
      "source": [
        "class Model(torch.nn.Module):\n",
        "    def __init__(self, hidden, K, alpha):\n",
        "        super().__init__()\n",
        "        # self.layer1 = ARMAConv(dataset.num_features, hidden, dropout=0.75)\n",
        "        # self.layer2 = ARMAConv(hidden, dataset.num_classes, dropout=0.75)\n",
        "        self.layer1 = Linear(dataset.num_features, hidden)\n",
        "        self.layer2 = Linear(hidden, dataset.num_classes)\n",
        "        self.prop = APPNP(K=K, alpha=alpha)\n",
        "\n",
        "    def reset_parameters(self):\n",
        "        self.layer1.reset_parameters()\n",
        "        self.layer2.reset_parameters()\n",
        "\n",
        "    def forward(self, data):\n",
        "        x, edge_index  = data.x, data.edge_index\n",
        "        x = F.dropout(x, training=self.training)\n",
        "        x = self.layer1(x).relu()\n",
        "        x = F.dropout(x, training=self.training)\n",
        "        x = self.layer2(x).relu()\n",
        "        x = self.prop(x, edge_index)\n",
        "        return x"
      ]
    },
    {
      "cell_type": "code",
      "execution_count": null,
      "metadata": {
        "colab": {
          "base_uri": "https://localhost:8080/"
        },
        "id": "o9bBboRu4q0I",
        "outputId": "506b378c-09e2-4e39-f950-db2f3e6ceed1"
      },
      "outputs": [
        {
          "output_type": "stream",
          "name": "stdout",
          "text": [
            "cuda is available\n",
            "Model(\n",
            "  (layer1): Linear(in_features=1433, out_features=128, bias=True)\n",
            "  (layer2): Linear(in_features=128, out_features=7, bias=True)\n",
            "  (prop): APPNP(K=50, alpha=0.1)\n",
            ")\n",
            "{'layer1.weight': [128, 1433], 'layer1.bias': [128], 'layer2.weight': [7, 128], 'layer2.bias': [7]}\n",
            "epoch: 1 | loss: 1.9484 | train_acc: 0.6286 | val_acc: 0.586 | test_acc: 0.61\n",
            "epoch: 3 | loss: 1.8107 | train_acc: 0.8571 | val_acc: 0.66 | test_acc: 0.69\n",
            "epoch: 4 | loss: 1.7003 | train_acc: 0.8929 | val_acc: 0.698 | test_acc: 0.734\n",
            "epoch: 5 | loss: 1.5584 | train_acc: 0.9571 | val_acc: 0.734 | test_acc: 0.771\n",
            "epoch: 6 | loss: 1.3885 | train_acc: 0.9643 | val_acc: 0.762 | test_acc: 0.795\n",
            "epoch: 7 | loss: 1.2140 | train_acc: 0.9643 | val_acc: 0.78 | test_acc: 0.808\n",
            "epoch: 11 | loss: 0.6086 | train_acc: 0.9571 | val_acc: 0.802 | test_acc: 0.815\n",
            "epoch: 12 | loss: 0.5563 | train_acc: 0.9643 | val_acc: 0.8 | test_acc: 0.836\n",
            "epoch: 13 | loss: 0.4273 | train_acc: 0.9786 | val_acc: 0.804 | test_acc: 0.838\n",
            "epoch: 20 | loss: 0.1814 | train_acc: 0.9929 | val_acc: 0.794 | test_acc: 0.839\n",
            "epoch: 21 | loss: 0.2154 | train_acc: 0.9929 | val_acc: 0.798 | test_acc: 0.844\n",
            "epoch: 531 | loss: 0.1352 | train_acc: 1.0000 | val_acc: 0.822 | test_acc: 0.852\n"
          ]
        }
      ],
      "source": [
        "print('cuda' if torch.cuda.is_available() else 'cpu', 'is available')\n",
        "device = torch.device('cuda' if torch.cuda.is_available() else 'cpu')\n",
        "model = Model(hidden=128, K=50, alpha=0.1).to(device)\n",
        "print(model)\n",
        "model.reset_parameters()\n",
        "print({i:list(j.shape) for i, j in model.named_parameters()})\n",
        "\n",
        "data = dataset[0].to(device)\n",
        "optimizer = torch.optim.Adam(model.parameters(), lr=0.01, weight_decay=5e-3)\n",
        "criterion = torch.nn.CrossEntropyLoss()\n",
        "\n",
        "def train():\n",
        "    model.train()\n",
        "    pred = model(data)\n",
        "    optimizer.zero_grad(set_to_none=True)\n",
        "    loss = criterion(pred[data.train_mask], data.y[data.train_mask])\n",
        "    loss.backward()\n",
        "    optimizer.step()\n",
        "    return loss\n",
        "\n",
        "def test(mask):\n",
        "    model.eval()\n",
        "    pred = model(data)\n",
        "    optimizer.zero_grad(set_to_none=True)\n",
        "    correct = pred.argmax(dim=1)[mask] == data.y[mask]\n",
        "    acc = int(correct.sum()) / int(mask.sum())\n",
        "    return acc\n",
        "\n",
        "best_acc = 0\n",
        "epochs = 1000\n",
        "for epoch in range(1, epochs+1):\n",
        "    loss = train()\n",
        "    train_acc = test(data.train_mask)\n",
        "    val_acc = test(data.val_mask)\n",
        "    test_acc = test(data.test_mask)\n",
        "    if best_acc < test_acc:\n",
        "        best_acc = test_acc\n",
        "        print(f'epoch: {epoch} | loss: {loss.item():.4f} | train_acc: {train_acc:.4f} | val_acc: {val_acc} | test_acc: {test_acc}')"
      ]
    }
  ],
  "metadata": {
    "accelerator": "GPU",
    "colab": {
      "collapsed_sections": [],
      "name": "APPNP_by_pytorch_geometric(Cora_dataset).ipynb",
      "provenance": [],
      "authorship_tag": "ABX9TyPefuAwPvJzciRi8EAbGs4I",
      "include_colab_link": true
    },
    "kernelspec": {
      "display_name": "Python 3",
      "name": "python3"
    },
    "language_info": {
      "name": "python"
    }
  },
  "nbformat": 4,
  "nbformat_minor": 0
}