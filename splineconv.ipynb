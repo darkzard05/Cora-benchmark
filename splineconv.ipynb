{
  "cells": [
    {
      "cell_type": "markdown",
      "metadata": {
        "id": "view-in-github",
        "colab_type": "text"
      },
      "source": [
        "<a href=\"https://colab.research.google.com/github/darkzard05/Cora_dataset_benchmark/blob/main/Spline_conv_by_pytorch_geometric(Cora_dataset).ipynb\" target=\"_parent\"><img src=\"https://colab.research.google.com/assets/colab-badge.svg\" alt=\"Open In Colab\"/></a>"
      ]
    },
    {
      "cell_type": "code",
      "execution_count": 1,
      "metadata": {
        "colab": {
          "base_uri": "https://localhost:8080/"
        },
        "id": "8U_rypC--3Mc",
        "outputId": "e588a637-588b-4c8f-c469-2946ccc93bcf"
      },
      "outputs": [
        {
          "output_type": "stream",
          "name": "stdout",
          "text": [
            "Looking in links: https://data.pyg.org/whl/torch-1.11.0+cu113.html\n",
            "Collecting torch-scatter\n",
            "  Downloading https://data.pyg.org/whl/torch-1.11.0%2Bcu113/torch_scatter-2.0.9-cp37-cp37m-linux_x86_64.whl (7.9 MB)\n",
            "\u001b[K     |████████████████████████████████| 7.9 MB 4.9 MB/s \n",
            "\u001b[?25hCollecting torch-sparse\n",
            "  Downloading https://data.pyg.org/whl/torch-1.11.0%2Bcu113/torch_sparse-0.6.13-cp37-cp37m-linux_x86_64.whl (3.5 MB)\n",
            "\u001b[K     |████████████████████████████████| 3.5 MB 46.2 MB/s \n",
            "\u001b[?25hCollecting torch-spline-conv\n",
            "  Downloading https://data.pyg.org/whl/torch-1.11.0%2Bcu113/torch_spline_conv-1.2.1-cp37-cp37m-linux_x86_64.whl (750 kB)\n",
            "\u001b[K     |████████████████████████████████| 750 kB 29.7 MB/s \n",
            "\u001b[?25hCollecting torch_geometric\n",
            "  Downloading torch_geometric-2.0.4.tar.gz (407 kB)\n",
            "\u001b[K     |████████████████████████████████| 407 kB 5.5 MB/s \n",
            "\u001b[?25hRequirement already satisfied: scipy in /usr/local/lib/python3.7/dist-packages (from torch-sparse) (1.4.1)\n",
            "Requirement already satisfied: tqdm in /usr/local/lib/python3.7/dist-packages (from torch_geometric) (4.64.0)\n",
            "Requirement already satisfied: numpy in /usr/local/lib/python3.7/dist-packages (from torch_geometric) (1.21.6)\n",
            "Requirement already satisfied: pandas in /usr/local/lib/python3.7/dist-packages (from torch_geometric) (1.3.5)\n",
            "Requirement already satisfied: jinja2 in /usr/local/lib/python3.7/dist-packages (from torch_geometric) (2.11.3)\n",
            "Requirement already satisfied: requests in /usr/local/lib/python3.7/dist-packages (from torch_geometric) (2.23.0)\n",
            "Requirement already satisfied: pyparsing in /usr/local/lib/python3.7/dist-packages (from torch_geometric) (3.0.8)\n",
            "Requirement already satisfied: scikit-learn in /usr/local/lib/python3.7/dist-packages (from torch_geometric) (1.0.2)\n",
            "Requirement already satisfied: MarkupSafe>=0.23 in /usr/local/lib/python3.7/dist-packages (from jinja2->torch_geometric) (2.0.1)\n",
            "Requirement already satisfied: python-dateutil>=2.7.3 in /usr/local/lib/python3.7/dist-packages (from pandas->torch_geometric) (2.8.2)\n",
            "Requirement already satisfied: pytz>=2017.3 in /usr/local/lib/python3.7/dist-packages (from pandas->torch_geometric) (2022.1)\n",
            "Requirement already satisfied: six>=1.5 in /usr/local/lib/python3.7/dist-packages (from python-dateutil>=2.7.3->pandas->torch_geometric) (1.15.0)\n",
            "Requirement already satisfied: chardet<4,>=3.0.2 in /usr/local/lib/python3.7/dist-packages (from requests->torch_geometric) (3.0.4)\n",
            "Requirement already satisfied: idna<3,>=2.5 in /usr/local/lib/python3.7/dist-packages (from requests->torch_geometric) (2.10)\n",
            "Requirement already satisfied: certifi>=2017.4.17 in /usr/local/lib/python3.7/dist-packages (from requests->torch_geometric) (2021.10.8)\n",
            "Requirement already satisfied: urllib3!=1.25.0,!=1.25.1,<1.26,>=1.21.1 in /usr/local/lib/python3.7/dist-packages (from requests->torch_geometric) (1.24.3)\n",
            "Requirement already satisfied: threadpoolctl>=2.0.0 in /usr/local/lib/python3.7/dist-packages (from scikit-learn->torch_geometric) (3.1.0)\n",
            "Requirement already satisfied: joblib>=0.11 in /usr/local/lib/python3.7/dist-packages (from scikit-learn->torch_geometric) (1.1.0)\n",
            "Building wheels for collected packages: torch-geometric\n",
            "  Building wheel for torch-geometric (setup.py) ... \u001b[?25l\u001b[?25hdone\n",
            "  Created wheel for torch-geometric: filename=torch_geometric-2.0.4-py3-none-any.whl size=616603 sha256=671a0126ec9d76e5043109dbfaa7a40be23d363ec5ab1f61a821ef29df9b64fb\n",
            "  Stored in directory: /root/.cache/pip/wheels/18/a6/a4/ca18c3051fcead866fe7b85700ee2240d883562a1bc70ce421\n",
            "Successfully built torch-geometric\n",
            "Installing collected packages: torch-spline-conv, torch-sparse, torch-scatter, torch-geometric\n",
            "Successfully installed torch-geometric-2.0.4 torch-scatter-2.0.9 torch-sparse-0.6.13 torch-spline-conv-1.2.1\n"
          ]
        }
      ],
      "source": [
        "!pip install torch-scatter torch-sparse torch-spline-conv torch_geometric -f https://data.pyg.org/whl/torch-1.11.0+cu113.html"
      ]
    },
    {
      "cell_type": "code",
      "execution_count": 2,
      "metadata": {
        "colab": {
          "base_uri": "https://localhost:8080/"
        },
        "id": "N8-smDMP-9e3",
        "outputId": "ac0b1f87-1381-4930-e671-680cde4b2b22"
      },
      "outputs": [
        {
          "output_type": "stream",
          "name": "stdout",
          "text": [
            "1.11.0+cu113\n"
          ]
        }
      ],
      "source": [
        "import numpy as np\n",
        "import torch\n",
        "import torch.nn.functional as F\n",
        "from torch.nn import Linear\n",
        "import torch_geometric\n",
        "import torch_geometric.transforms as T\n",
        "from torch_geometric.datasets import Planetoid\n",
        "from torch_geometric.nn import SplineConv\n",
        "\n",
        "print(torch.__version__)"
      ]
    },
    {
      "cell_type": "code",
      "execution_count": 3,
      "metadata": {
        "colab": {
          "base_uri": "https://localhost:8080/"
        },
        "id": "YWyd8fOJCGNb",
        "outputId": "6127da83-9a15-4ad6-a5a0-056427d55d0e"
      },
      "outputs": [
        {
          "output_type": "stream",
          "name": "stderr",
          "text": [
            "Downloading https://github.com/kimiyoung/planetoid/raw/master/data/ind.cora.x\n",
            "Downloading https://github.com/kimiyoung/planetoid/raw/master/data/ind.cora.tx\n",
            "Downloading https://github.com/kimiyoung/planetoid/raw/master/data/ind.cora.allx\n",
            "Downloading https://github.com/kimiyoung/planetoid/raw/master/data/ind.cora.y\n",
            "Downloading https://github.com/kimiyoung/planetoid/raw/master/data/ind.cora.ty\n",
            "Downloading https://github.com/kimiyoung/planetoid/raw/master/data/ind.cora.ally\n",
            "Downloading https://github.com/kimiyoung/planetoid/raw/master/data/ind.cora.graph\n",
            "Downloading https://github.com/kimiyoung/planetoid/raw/master/data/ind.cora.test.index\n",
            "Processing...\n",
            "Done!\n"
          ]
        }
      ],
      "source": [
        "dataset_name = 'Cora'\n",
        "dataset = Planetoid(root='/tmp/'+dataset_name, name=dataset_name, \n",
        "                    transform=T.TargetIndegree()\n",
        "                    )"
      ]
    },
    {
      "cell_type": "code",
      "execution_count": 4,
      "metadata": {
        "colab": {
          "base_uri": "https://localhost:8080/"
        },
        "id": "N4xBJPAHEcxZ",
        "outputId": "ff27382e-de90-494f-93c5-6cfc0ebc3f62"
      },
      "outputs": [
        {
          "output_type": "stream",
          "name": "stdout",
          "text": [
            "dataset name: Cora\n",
            "number of nodes: 2708 // number of edges: 10556 // number of classes: 7\n",
            "number of node features: 1433 // number of edge features: 1\n",
            "tensor([[0., 0., 0.,  ..., 0., 0., 0.],\n",
            "        [0., 0., 0.,  ..., 0., 0., 0.],\n",
            "        [0., 0., 0.,  ..., 0., 0., 0.],\n",
            "        ...,\n",
            "        [0., 0., 0.,  ..., 0., 0., 0.],\n",
            "        [0., 0., 0.,  ..., 0., 0., 0.],\n",
            "        [0., 0., 0.,  ..., 0., 0., 0.]]) tensor([[   0,    0,    0,  ..., 2707, 2707, 2707],\n",
            "        [ 633, 1862, 2582,  ...,  598, 1473, 2706]]) tensor([[0.0179],\n",
            "        [0.0238],\n",
            "        [0.0179],\n",
            "        ...,\n",
            "        [0.1964],\n",
            "        [0.0238],\n",
            "        [0.0238]]) tensor([3, 4, 4,  ..., 3, 3, 3])\n",
            "tensor(140) tensor(500) tensor(1000)\n"
          ]
        }
      ],
      "source": [
        "data = dataset[0]\n",
        "print(f'dataset name: {dataset_name}')\n",
        "print(f'number of nodes: {data.num_nodes} // number of edges: {data.num_edges} // number of classes: {dataset.num_classes}')\n",
        "print(f'number of node features: {data.num_node_features} // number of edge features: {data.num_edge_features}')\n",
        "print(data.x, data.edge_index, data.edge_attr, data.y)\n",
        "print(data.train_mask.sum(), data.val_mask.sum(), data.test_mask.sum())"
      ]
    },
    {
      "cell_type": "code",
      "execution_count": 5,
      "metadata": {
        "id": "wo1cagCCnEoT"
      },
      "outputs": [],
      "source": [
        "class Model(torch.nn.Module):\n",
        "    def __init__(self, hidden):\n",
        "        super().__init__()\n",
        "        self.layer1 = SplineConv(data.num_node_features, hidden, dim=1, kernel_size=2)\n",
        "        self.layer2 = SplineConv(hidden, dataset.num_classes, dim=1, kernel_size=2)\n",
        "\n",
        "    def reset_parameters(self):\n",
        "        self.layer1.reset_parameters()\n",
        "        self.layer2.reset_parameters()\n",
        "\n",
        "    def forward(self, data):\n",
        "        x, edge_index, edge_attr = data.x, data.edge_index, data.edge_attr\n",
        "        x = F.dropout(x, training=self.training)\n",
        "        x = self.layer1(x, edge_index, edge_attr)\n",
        "        x = F.elu(x)\n",
        "        x = F.dropout(x, training=self.training)\n",
        "        x = self.layer2(x, edge_index, edge_attr)\n",
        "        x = F.elu(x)\n",
        "        return F.log_softmax(x, dim=1)"
      ]
    },
    {
      "cell_type": "code",
      "execution_count": 6,
      "metadata": {
        "colab": {
          "base_uri": "https://localhost:8080/"
        },
        "id": "o9bBboRu4q0I",
        "outputId": "ba2a2408-32b0-4ab5-fbd2-ee5bafc10690"
      },
      "outputs": [
        {
          "output_type": "stream",
          "name": "stdout",
          "text": [
            "cuda is available\n",
            "Model(\n",
            "  (layer1): SplineConv(1433, 16, dim=1)\n",
            "  (layer2): SplineConv(16, 7, dim=1)\n",
            ")\n",
            "{'layer1.weight': [2, 1433, 16], 'layer1.bias': [16], 'layer1.lin.weight': [16, 1433], 'layer2.weight': [2, 16, 7], 'layer2.bias': [7], 'layer2.lin.weight': [7, 16]}\n",
            "epoch: 1 | loss: 1.9533 | train_acc: 0.8929 | val_acc: 0.538 | test_acc: 0.542\n",
            "epoch: 2 | loss: 1.7775 | train_acc: 0.9571 | val_acc: 0.578 | test_acc: 0.555\n",
            "epoch: 3 | loss: 1.5752 | train_acc: 0.9643 | val_acc: 0.608 | test_acc: 0.594\n",
            "epoch: 4 | loss: 1.4034 | train_acc: 0.9929 | val_acc: 0.63 | test_acc: 0.633\n",
            "epoch: 5 | loss: 1.1961 | train_acc: 1.0000 | val_acc: 0.652 | test_acc: 0.646\n",
            "epoch: 6 | loss: 1.0230 | train_acc: 1.0000 | val_acc: 0.656 | test_acc: 0.673\n",
            "epoch: 7 | loss: 0.8819 | train_acc: 1.0000 | val_acc: 0.688 | test_acc: 0.704\n",
            "epoch: 8 | loss: 0.7233 | train_acc: 1.0000 | val_acc: 0.706 | test_acc: 0.721\n",
            "epoch: 9 | loss: 0.6402 | train_acc: 1.0000 | val_acc: 0.734 | test_acc: 0.74\n",
            "epoch: 10 | loss: 0.5311 | train_acc: 1.0000 | val_acc: 0.74 | test_acc: 0.743\n",
            "epoch: 11 | loss: 0.4288 | train_acc: 1.0000 | val_acc: 0.752 | test_acc: 0.756\n",
            "epoch: 12 | loss: 0.3702 | train_acc: 1.0000 | val_acc: 0.762 | test_acc: 0.77\n",
            "epoch: 14 | loss: 0.2884 | train_acc: 1.0000 | val_acc: 0.758 | test_acc: 0.774\n",
            "epoch: 17 | loss: 0.1996 | train_acc: 1.0000 | val_acc: 0.766 | test_acc: 0.778\n",
            "epoch: 18 | loss: 0.1417 | train_acc: 1.0000 | val_acc: 0.768 | test_acc: 0.785\n",
            "epoch: 19 | loss: 0.1568 | train_acc: 1.0000 | val_acc: 0.776 | test_acc: 0.788\n",
            "epoch: 23 | loss: 0.0992 | train_acc: 1.0000 | val_acc: 0.77 | test_acc: 0.792\n",
            "epoch: 27 | loss: 0.0958 | train_acc: 1.0000 | val_acc: 0.77 | test_acc: 0.793\n",
            "epoch: 28 | loss: 0.0599 | train_acc: 1.0000 | val_acc: 0.77 | test_acc: 0.795\n",
            "epoch: 29 | loss: 0.0692 | train_acc: 1.0000 | val_acc: 0.768 | test_acc: 0.798\n",
            "epoch: 32 | loss: 0.0706 | train_acc: 1.0000 | val_acc: 0.764 | test_acc: 0.799\n",
            "epoch: 33 | loss: 0.0617 | train_acc: 1.0000 | val_acc: 0.766 | test_acc: 0.802\n",
            "epoch: 51 | loss: 0.1099 | train_acc: 1.0000 | val_acc: 0.774 | test_acc: 0.804\n",
            "epoch: 61 | loss: 0.0780 | train_acc: 1.0000 | val_acc: 0.778 | test_acc: 0.806\n",
            "epoch: 62 | loss: 0.0706 | train_acc: 1.0000 | val_acc: 0.776 | test_acc: 0.808\n",
            "epoch: 63 | loss: 0.0848 | train_acc: 1.0000 | val_acc: 0.774 | test_acc: 0.809\n",
            "epoch: 74 | loss: 0.0764 | train_acc: 1.0000 | val_acc: 0.774 | test_acc: 0.813\n",
            "epoch: 84 | loss: 0.0902 | train_acc: 1.0000 | val_acc: 0.778 | test_acc: 0.816\n",
            "epoch: 100 | loss: 0.0586 | train_acc: 1.0000 | val_acc: 0.792 | test_acc: 0.82\n",
            "epoch: 140 | loss: 0.0523 | train_acc: 1.0000 | val_acc: 0.78 | test_acc: 0.822\n",
            "epoch: 141 | loss: 0.0664 | train_acc: 1.0000 | val_acc: 0.786 | test_acc: 0.824\n",
            "epoch: 142 | loss: 0.0730 | train_acc: 1.0000 | val_acc: 0.792 | test_acc: 0.827\n"
          ]
        }
      ],
      "source": [
        "print('cuda' if torch.cuda.is_available() else 'cpu', 'is available')\n",
        "device = torch.device('cuda' if torch.cuda.is_available() else 'cpu')\n",
        "model = Model(hidden=16).to(device)\n",
        "print(model)\n",
        "model.reset_parameters()\n",
        "print({i:list(j.shape) for i, j in model.named_parameters()})\n",
        "\n",
        "data = dataset[0].to(device)\n",
        "optimizer = torch.optim.Adam(model.parameters(), lr=0.01, weight_decay=5e-3)\n",
        "criterion = torch.nn.CrossEntropyLoss()\n",
        "\n",
        "def train():\n",
        "    model.train()\n",
        "    pred = model(data)\n",
        "    optimizer.zero_grad(set_to_none=True)\n",
        "    loss = criterion(pred[data.train_mask], data.y[data.train_mask])\n",
        "    loss.backward()\n",
        "    optimizer.step()\n",
        "    return loss\n",
        "\n",
        "def test(mask):\n",
        "    model.eval()\n",
        "    pred = model(data)\n",
        "    optimizer.zero_grad(set_to_none=True)\n",
        "    correct = pred.argmax(dim=1)[mask] == data.y[mask]\n",
        "    acc = int(correct.sum()) / int(mask.sum())\n",
        "    return acc\n",
        "\n",
        "best_acc = 0\n",
        "epochs = 1000\n",
        "for epoch in range(1, epochs+1):\n",
        "    loss = train()\n",
        "    train_acc = test(data.train_mask)\n",
        "    val_acc = test(data.val_mask)\n",
        "    test_acc = test(data.test_mask)\n",
        "    if best_acc < test_acc:\n",
        "        best_acc = test_acc\n",
        "        print(f'epoch: {epoch} | loss: {loss.item():.4f} | train_acc: {train_acc:.4f} | val_acc: {val_acc} | test_acc: {test_acc}')"
      ]
    }
  ],
  "metadata": {
    "accelerator": "GPU",
    "colab": {
      "collapsed_sections": [],
      "name": "Spline_conv_by_pytorch_geometric(Cora_dataset).ipynb",
      "provenance": [],
      "authorship_tag": "ABX9TyO/c5VpesPRWSAeuuP054DS",
      "include_colab_link": true
    },
    "kernelspec": {
      "display_name": "Python 3",
      "name": "python3"
    },
    "language_info": {
      "name": "python"
    }
  },
  "nbformat": 4,
  "nbformat_minor": 0
}
