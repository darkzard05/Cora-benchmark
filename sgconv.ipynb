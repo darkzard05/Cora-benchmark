{
  "cells": [
    {
      "cell_type": "markdown",
      "metadata": {
        "id": "view-in-github",
        "colab_type": "text"
      },
      "source": [
        "<a href=\"https://colab.research.google.com/github/darkzard05/Cora_dataset_benchmark/blob/main/sgconv.ipynb\" target=\"_parent\"><img src=\"https://colab.research.google.com/assets/colab-badge.svg\" alt=\"Open In Colab\"/></a>"
      ]
    },
    {
      "cell_type": "code",
      "execution_count": 1,
      "metadata": {
        "colab": {
          "base_uri": "https://localhost:8080/"
        },
        "id": "8U_rypC--3Mc",
        "outputId": "12cb6470-d41e-4d10-e375-b13c8939156e"
      },
      "outputs": [
        {
          "output_type": "stream",
          "name": "stdout",
          "text": [
            "Looking in links: https://data.pyg.org/whl/torch-1.11.0+cu113.html\n",
            "Collecting torch-scatter\n",
            "  Downloading https://data.pyg.org/whl/torch-1.11.0%2Bcu113/torch_scatter-2.0.9-cp37-cp37m-linux_x86_64.whl (7.9 MB)\n",
            "\u001b[K     |████████████████████████████████| 7.9 MB 11.6 MB/s \n",
            "\u001b[?25hCollecting torch-sparse\n",
            "  Downloading https://data.pyg.org/whl/torch-1.11.0%2Bcu113/torch_sparse-0.6.13-cp37-cp37m-linux_x86_64.whl (3.5 MB)\n",
            "\u001b[K     |████████████████████████████████| 3.5 MB 46.9 MB/s \n",
            "\u001b[?25hCollecting torch-spline-conv\n",
            "  Downloading https://data.pyg.org/whl/torch-1.11.0%2Bcu113/torch_spline_conv-1.2.1-cp37-cp37m-linux_x86_64.whl (750 kB)\n",
            "\u001b[K     |████████████████████████████████| 750 kB 44.5 MB/s \n",
            "\u001b[?25hCollecting torch_geometric\n",
            "  Downloading torch_geometric-2.0.4.tar.gz (407 kB)\n",
            "\u001b[K     |████████████████████████████████| 407 kB 12.2 MB/s \n",
            "\u001b[?25hRequirement already satisfied: scipy in /usr/local/lib/python3.7/dist-packages (from torch-sparse) (1.4.1)\n",
            "Requirement already satisfied: tqdm in /usr/local/lib/python3.7/dist-packages (from torch_geometric) (4.64.0)\n",
            "Requirement already satisfied: numpy in /usr/local/lib/python3.7/dist-packages (from torch_geometric) (1.21.6)\n",
            "Requirement already satisfied: pandas in /usr/local/lib/python3.7/dist-packages (from torch_geometric) (1.3.5)\n",
            "Requirement already satisfied: jinja2 in /usr/local/lib/python3.7/dist-packages (from torch_geometric) (2.11.3)\n",
            "Requirement already satisfied: requests in /usr/local/lib/python3.7/dist-packages (from torch_geometric) (2.23.0)\n",
            "Requirement already satisfied: pyparsing in /usr/local/lib/python3.7/dist-packages (from torch_geometric) (3.0.8)\n",
            "Requirement already satisfied: scikit-learn in /usr/local/lib/python3.7/dist-packages (from torch_geometric) (1.0.2)\n",
            "Requirement already satisfied: MarkupSafe>=0.23 in /usr/local/lib/python3.7/dist-packages (from jinja2->torch_geometric) (2.0.1)\n",
            "Requirement already satisfied: pytz>=2017.3 in /usr/local/lib/python3.7/dist-packages (from pandas->torch_geometric) (2022.1)\n",
            "Requirement already satisfied: python-dateutil>=2.7.3 in /usr/local/lib/python3.7/dist-packages (from pandas->torch_geometric) (2.8.2)\n",
            "Requirement already satisfied: six>=1.5 in /usr/local/lib/python3.7/dist-packages (from python-dateutil>=2.7.3->pandas->torch_geometric) (1.15.0)\n",
            "Requirement already satisfied: chardet<4,>=3.0.2 in /usr/local/lib/python3.7/dist-packages (from requests->torch_geometric) (3.0.4)\n",
            "Requirement already satisfied: idna<3,>=2.5 in /usr/local/lib/python3.7/dist-packages (from requests->torch_geometric) (2.10)\n",
            "Requirement already satisfied: urllib3!=1.25.0,!=1.25.1,<1.26,>=1.21.1 in /usr/local/lib/python3.7/dist-packages (from requests->torch_geometric) (1.24.3)\n",
            "Requirement already satisfied: certifi>=2017.4.17 in /usr/local/lib/python3.7/dist-packages (from requests->torch_geometric) (2021.10.8)\n",
            "Requirement already satisfied: threadpoolctl>=2.0.0 in /usr/local/lib/python3.7/dist-packages (from scikit-learn->torch_geometric) (3.1.0)\n",
            "Requirement already satisfied: joblib>=0.11 in /usr/local/lib/python3.7/dist-packages (from scikit-learn->torch_geometric) (1.1.0)\n",
            "Building wheels for collected packages: torch-geometric\n",
            "  Building wheel for torch-geometric (setup.py) ... \u001b[?25l\u001b[?25hdone\n",
            "  Created wheel for torch-geometric: filename=torch_geometric-2.0.4-py3-none-any.whl size=616603 sha256=e5082922fad9b400ba53b74f3bd8f5bd78cf3dd1e1c3ca6d54f844be6b84a595\n",
            "  Stored in directory: /root/.cache/pip/wheels/18/a6/a4/ca18c3051fcead866fe7b85700ee2240d883562a1bc70ce421\n",
            "Successfully built torch-geometric\n",
            "Installing collected packages: torch-spline-conv, torch-sparse, torch-scatter, torch-geometric\n",
            "Successfully installed torch-geometric-2.0.4 torch-scatter-2.0.9 torch-sparse-0.6.13 torch-spline-conv-1.2.1\n"
          ]
        }
      ],
      "source": [
        "!pip install torch-scatter torch-sparse torch-spline-conv torch_geometric -f https://data.pyg.org/whl/torch-1.11.0+cu113.html"
      ]
    },
    {
      "cell_type": "code",
      "execution_count": 2,
      "metadata": {
        "colab": {
          "base_uri": "https://localhost:8080/"
        },
        "id": "N8-smDMP-9e3",
        "outputId": "8781bd72-7e89-4ae3-f334-fdda6ba800a1"
      },
      "outputs": [
        {
          "output_type": "stream",
          "name": "stdout",
          "text": [
            "1.11.0+cu113\n"
          ]
        }
      ],
      "source": [
        "import numpy as np\n",
        "import torch\n",
        "import torch.nn.functional as F\n",
        "from torch.nn import Linear\n",
        "import torch_geometric\n",
        "import torch_geometric.transforms as T\n",
        "from torch_geometric.datasets import Planetoid\n",
        "from torch_geometric.nn import SGConv\n",
        "\n",
        "print(torch.__version__)"
      ]
    },
    {
      "cell_type": "code",
      "execution_count": 3,
      "metadata": {
        "colab": {
          "base_uri": "https://localhost:8080/"
        },
        "id": "YWyd8fOJCGNb",
        "outputId": "b4669ac4-56e1-4620-8545-03609247b663"
      },
      "outputs": [
        {
          "output_type": "stream",
          "name": "stderr",
          "text": [
            "Downloading https://github.com/kimiyoung/planetoid/raw/master/data/ind.cora.x\n",
            "Downloading https://github.com/kimiyoung/planetoid/raw/master/data/ind.cora.tx\n",
            "Downloading https://github.com/kimiyoung/planetoid/raw/master/data/ind.cora.allx\n",
            "Downloading https://github.com/kimiyoung/planetoid/raw/master/data/ind.cora.y\n",
            "Downloading https://github.com/kimiyoung/planetoid/raw/master/data/ind.cora.ty\n",
            "Downloading https://github.com/kimiyoung/planetoid/raw/master/data/ind.cora.ally\n",
            "Downloading https://github.com/kimiyoung/planetoid/raw/master/data/ind.cora.graph\n",
            "Downloading https://github.com/kimiyoung/planetoid/raw/master/data/ind.cora.test.index\n",
            "Processing...\n",
            "Done!\n"
          ]
        }
      ],
      "source": [
        "dataset_name = 'Cora'\n",
        "dataset = Planetoid(root='/tmp/'+dataset_name, name=dataset_name, \n",
        "                    transform=T.TargetIndegree()\n",
        "                    )"
      ]
    },
    {
      "cell_type": "code",
      "execution_count": 4,
      "metadata": {
        "colab": {
          "base_uri": "https://localhost:8080/"
        },
        "id": "N4xBJPAHEcxZ",
        "outputId": "5005bf35-8797-4d65-a2ac-e373be576ad0"
      },
      "outputs": [
        {
          "output_type": "stream",
          "name": "stdout",
          "text": [
            "dataset name: Cora\n",
            "number of nodes: 2708 // number of edges: 10556 // number of classes: 7\n",
            "number of node features: 1433 // number of edge features: 1\n",
            "tensor([[0., 0., 0.,  ..., 0., 0., 0.],\n",
            "        [0., 0., 0.,  ..., 0., 0., 0.],\n",
            "        [0., 0., 0.,  ..., 0., 0., 0.],\n",
            "        ...,\n",
            "        [0., 0., 0.,  ..., 0., 0., 0.],\n",
            "        [0., 0., 0.,  ..., 0., 0., 0.],\n",
            "        [0., 0., 0.,  ..., 0., 0., 0.]]) tensor([[   0,    0,    0,  ..., 2707, 2707, 2707],\n",
            "        [ 633, 1862, 2582,  ...,  598, 1473, 2706]]) tensor([[0.0179],\n",
            "        [0.0238],\n",
            "        [0.0179],\n",
            "        ...,\n",
            "        [0.1964],\n",
            "        [0.0238],\n",
            "        [0.0238]]) tensor([3, 4, 4,  ..., 3, 3, 3])\n",
            "tensor(140) tensor(500) tensor(1000)\n"
          ]
        }
      ],
      "source": [
        "data = dataset[0]\n",
        "print(f'dataset name: {dataset_name}')\n",
        "print(f'number of nodes: {data.num_nodes} // number of edges: {data.num_edges} // number of classes: {dataset.num_classes}')\n",
        "print(f'number of node features: {data.num_node_features} // number of edge features: {data.num_edge_features}')\n",
        "print(data.x, data.edge_index, data.edge_attr, data.y)\n",
        "print(data.train_mask.sum(), data.val_mask.sum(), data.test_mask.sum())"
      ]
    },
    {
      "cell_type": "code",
      "execution_count": 5,
      "metadata": {
        "id": "wo1cagCCnEoT"
      },
      "outputs": [],
      "source": [
        "class Model(torch.nn.Module):\n",
        "    def __init__(self, hidden):\n",
        "        super().__init__()\n",
        "        self.layer1 = SGConv(data.num_node_features, dataset.num_classes, K=2)\n",
        "\n",
        "    def reset_parameters(self):\n",
        "        self.layer1.reset_parameters()\n",
        "\n",
        "    def forward(self, data):\n",
        "        x, edge_index = data.x, data.edge_index\n",
        "        x = F.dropout(x, training=self.training)\n",
        "        x = self.layer1(x, edge_index).relu()\n",
        "        return F.log_softmax(x, dim=1)"
      ]
    },
    {
      "cell_type": "code",
      "execution_count": 6,
      "metadata": {
        "colab": {
          "base_uri": "https://localhost:8080/"
        },
        "id": "o9bBboRu4q0I",
        "outputId": "b3a1ca79-9db3-49ad-dc71-54a7f5decf79"
      },
      "outputs": [
        {
          "output_type": "stream",
          "name": "stdout",
          "text": [
            "cuda is available\n",
            "Model(\n",
            "  (layer1): SGConv(1433, 7, K=2)\n",
            ")\n",
            "{'layer1.lin.weight': [7, 1433], 'layer1.lin.bias': [7]}\n",
            "epoch: 1 | loss: 1.9422 | train_acc: 0.4286 | val_acc: 0.198 | test_acc: 0.229\n",
            "epoch: 2 | loss: 1.9047 | train_acc: 0.5786 | val_acc: 0.368 | test_acc: 0.384\n",
            "epoch: 3 | loss: 1.8592 | train_acc: 0.6571 | val_acc: 0.508 | test_acc: 0.53\n",
            "epoch: 4 | loss: 1.7916 | train_acc: 0.7786 | val_acc: 0.616 | test_acc: 0.641\n",
            "epoch: 5 | loss: 1.7308 | train_acc: 0.8429 | val_acc: 0.706 | test_acc: 0.704\n",
            "epoch: 6 | loss: 1.6554 | train_acc: 0.9000 | val_acc: 0.73 | test_acc: 0.739\n",
            "epoch: 7 | loss: 1.5773 | train_acc: 0.9143 | val_acc: 0.744 | test_acc: 0.761\n",
            "epoch: 8 | loss: 1.5018 | train_acc: 0.9286 | val_acc: 0.746 | test_acc: 0.766\n",
            "epoch: 9 | loss: 1.4452 | train_acc: 0.9500 | val_acc: 0.75 | test_acc: 0.771\n",
            "epoch: 10 | loss: 1.3658 | train_acc: 0.9571 | val_acc: 0.752 | test_acc: 0.775\n",
            "epoch: 12 | loss: 1.2501 | train_acc: 0.9786 | val_acc: 0.75 | test_acc: 0.778\n",
            "epoch: 13 | loss: 1.1758 | train_acc: 0.9786 | val_acc: 0.746 | test_acc: 0.779\n",
            "epoch: 14 | loss: 1.1200 | train_acc: 0.9786 | val_acc: 0.744 | test_acc: 0.781\n",
            "epoch: 15 | loss: 1.0756 | train_acc: 0.9786 | val_acc: 0.752 | test_acc: 0.783\n",
            "epoch: 16 | loss: 1.0072 | train_acc: 0.9786 | val_acc: 0.75 | test_acc: 0.786\n",
            "epoch: 17 | loss: 0.9733 | train_acc: 0.9786 | val_acc: 0.754 | test_acc: 0.789\n",
            "epoch: 18 | loss: 0.9384 | train_acc: 0.9786 | val_acc: 0.76 | test_acc: 0.793\n",
            "epoch: 19 | loss: 0.9003 | train_acc: 0.9857 | val_acc: 0.764 | test_acc: 0.795\n",
            "epoch: 20 | loss: 0.8433 | train_acc: 0.9857 | val_acc: 0.766 | test_acc: 0.801\n",
            "epoch: 24 | loss: 0.7496 | train_acc: 0.9857 | val_acc: 0.77 | test_acc: 0.802\n",
            "epoch: 32 | loss: 0.5799 | train_acc: 0.9857 | val_acc: 0.78 | test_acc: 0.803\n",
            "epoch: 34 | loss: 0.5443 | train_acc: 0.9857 | val_acc: 0.78 | test_acc: 0.805\n",
            "epoch: 35 | loss: 0.5483 | train_acc: 0.9857 | val_acc: 0.78 | test_acc: 0.807\n",
            "epoch: 47 | loss: 0.4586 | train_acc: 0.9857 | val_acc: 0.794 | test_acc: 0.808\n",
            "epoch: 48 | loss: 0.4646 | train_acc: 0.9857 | val_acc: 0.794 | test_acc: 0.812\n",
            "epoch: 94 | loss: 0.4193 | train_acc: 0.9929 | val_acc: 0.784 | test_acc: 0.816\n",
            "epoch: 95 | loss: 0.4160 | train_acc: 0.9929 | val_acc: 0.784 | test_acc: 0.819\n",
            "epoch: 97 | loss: 0.4124 | train_acc: 0.9929 | val_acc: 0.784 | test_acc: 0.822\n",
            "epoch: 122 | loss: 0.3901 | train_acc: 0.9929 | val_acc: 0.782 | test_acc: 0.823\n",
            "epoch: 150 | loss: 0.3630 | train_acc: 0.9929 | val_acc: 0.784 | test_acc: 0.824\n",
            "epoch: 151 | loss: 0.3848 | train_acc: 0.9929 | val_acc: 0.784 | test_acc: 0.825\n",
            "epoch: 152 | loss: 0.3814 | train_acc: 0.9929 | val_acc: 0.784 | test_acc: 0.827\n",
            "epoch: 231 | loss: 0.3753 | train_acc: 0.9929 | val_acc: 0.774 | test_acc: 0.831\n",
            "epoch: 233 | loss: 0.3683 | train_acc: 0.9929 | val_acc: 0.776 | test_acc: 0.832\n",
            "epoch: 495 | loss: 0.3626 | train_acc: 0.9929 | val_acc: 0.79 | test_acc: 0.833\n",
            "epoch: 969 | loss: 0.3383 | train_acc: 0.9929 | val_acc: 0.784 | test_acc: 0.834\n"
          ]
        }
      ],
      "source": [
        "print('cuda' if torch.cuda.is_available() else 'cpu', 'is available')\n",
        "device = torch.device('cuda' if torch.cuda.is_available() else 'cpu')\n",
        "model = Model().to(device)\n",
        "print(model)\n",
        "model.reset_parameters()\n",
        "print({i:list(j.shape) for i, j in model.named_parameters()})\n",
        "\n",
        "data = dataset[0].to(device)\n",
        "optimizer = torch.optim.Adam(model.parameters(), lr=1e-2, weight_decay=5e-3)\n",
        "criterion = torch.nn.CrossEntropyLoss()\n",
        "\n",
        "def train():\n",
        "    model.train()\n",
        "    pred = model(data)\n",
        "    optimizer.zero_grad(set_to_none=True)\n",
        "    loss = criterion(pred[data.train_mask], data.y[data.train_mask])\n",
        "    loss.backward()\n",
        "    optimizer.step()\n",
        "    return loss\n",
        "\n",
        "def test(mask):\n",
        "    model.eval()\n",
        "    pred = model(data)\n",
        "    optimizer.zero_grad(set_to_none=True)\n",
        "    correct = pred.argmax(dim=1)[mask] == data.y[mask]\n",
        "    acc = int(correct.sum()) / int(mask.sum())\n",
        "    return acc\n",
        "\n",
        "best_acc = 0\n",
        "epochs = 1000\n",
        "for epoch in range(1, epochs+1):\n",
        "    loss = train()\n",
        "    train_acc = test(data.train_mask)\n",
        "    val_acc = test(data.val_mask)\n",
        "    test_acc = test(data.test_mask)\n",
        "    if best_acc < test_acc:\n",
        "        best_acc = test_acc\n",
        "        print(f'epoch: {epoch} | loss: {loss.item():.4f} | train_acc: {train_acc:.4f} | val_acc: {val_acc} | test_acc: {test_acc}')"
      ]
    }
  ],
  "metadata": {
    "colab": {
      "collapsed_sections": [],
      "name": "sgconv.ipynb",
      "provenance": [],
      "authorship_tag": "ABX9TyPHcmfWfRcWrKY0laTj7oBb",
      "include_colab_link": true
    },
    "kernelspec": {
      "display_name": "Python 3",
      "name": "python3"
    },
    "language_info": {
      "name": "python"
    },
    "accelerator": "GPU"
  },
  "nbformat": 4,
  "nbformat_minor": 0
}